{
 "cells": [
  {
   "cell_type": "code",
   "execution_count": 1,
   "metadata": {},
   "outputs": [],
   "source": [
    "%matplotlib inline"
   ]
  },
  {
   "cell_type": "code",
   "execution_count": 2,
   "metadata": {},
   "outputs": [],
   "source": [
    "import numpy as np\n",
    "import pandas as pd\n",
    "import matplotlib.pyplot as plt\n",
    "\n",
    "import os\n",
    "\n",
    "import tensorflow as tf\n",
    "\n",
    "from tensorflow.keras.models import Sequential\n",
    "from tensorflow.keras.layers import Input, Conv2D, MaxPool2D, BatchNormalization, Flatten, Dense\n",
    "\n",
    "from tensorflow.keras.optimizers import Adam\n",
    "from tensorflow.keras.losses import SparseCategoricalCrossentropy\n",
    "from tensorflow.keras.metrics import SparseCategoricalAccuracy"
   ]
  },
  {
   "cell_type": "code",
   "execution_count": 3,
   "metadata": {},
   "outputs": [],
   "source": [
    "# Image size for the input\n",
    "IMAGE_SIZE = (224, 224)\n",
    "\n",
    "# Image size + channels for the input\n",
    "INPUT_IMAGE_SIZE = (IMAGE_SIZE[0], IMAGE_SIZE[1], 3)"
   ]
  },
  {
   "cell_type": "markdown",
   "metadata": {},
   "source": [
    "# Delving Deeper into Conolutional Neural Networks"
   ]
  },
  {
   "cell_type": "code",
   "execution_count": 4,
   "metadata": {},
   "outputs": [],
   "source": [
    "model = Sequential([\n",
    "    Input(shape=INPUT_IMAGE_SIZE),\n",
    "    Conv2D(20, 3, padding = \"same\", activation = tf.keras.activations.relu),\n",
    "    Conv2D(20, 3, padding = \"same\", activation = tf.keras.activations.relu),\n",
    "    MaxPool2D(),\n",
    "    Conv2D(50, 3, padding = \"same\", activation = tf.keras.activations.relu),\n",
    "    Conv2D(50, 3, padding = \"same\", activation = tf.keras.activations.relu),\n",
    "    MaxPool2D(),\n",
    "    BatchNormalization(),\n",
    "    Conv2D(100, 3, padding = \"same\", activation = tf.keras.activations.relu),\n",
    "    Conv2D(100, 3, padding = \"same\", activation = tf.keras.activations.relu),\n",
    "    MaxPool2D(),\n",
    "    Flatten(),\n",
    "    Dense(units=20, activation=tf.keras.activations.relu),\n",
    "    Dense(units=2, activation=tf.keras.activations.sigmoid)\n",
    "])"
   ]
  },
  {
   "cell_type": "code",
   "execution_count": 5,
   "metadata": {},
   "outputs": [
    {
     "name": "stdout",
     "output_type": "stream",
     "text": [
      "Model: \"sequential\"\n",
      "_________________________________________________________________\n",
      "Layer (type)                 Output Shape              Param #   \n",
      "=================================================================\n",
      "conv2d (Conv2D)              (None, 224, 224, 20)      560       \n",
      "_________________________________________________________________\n",
      "conv2d_1 (Conv2D)            (None, 224, 224, 20)      3620      \n",
      "_________________________________________________________________\n",
      "max_pooling2d (MaxPooling2D) (None, 112, 112, 20)      0         \n",
      "_________________________________________________________________\n",
      "conv2d_2 (Conv2D)            (None, 112, 112, 50)      9050      \n",
      "_________________________________________________________________\n",
      "conv2d_3 (Conv2D)            (None, 112, 112, 50)      22550     \n",
      "_________________________________________________________________\n",
      "max_pooling2d_1 (MaxPooling2 (None, 56, 56, 50)        0         \n",
      "_________________________________________________________________\n",
      "batch_normalization (BatchNo (None, 56, 56, 50)        200       \n",
      "_________________________________________________________________\n",
      "conv2d_4 (Conv2D)            (None, 56, 56, 100)       45100     \n",
      "_________________________________________________________________\n",
      "conv2d_5 (Conv2D)            (None, 56, 56, 100)       90100     \n",
      "_________________________________________________________________\n",
      "max_pooling2d_2 (MaxPooling2 (None, 28, 28, 100)       0         \n",
      "_________________________________________________________________\n",
      "flatten (Flatten)            (None, 78400)             0         \n",
      "_________________________________________________________________\n",
      "dense (Dense)                (None, 20)                1568020   \n",
      "_________________________________________________________________\n",
      "dense_1 (Dense)              (None, 2)                 42        \n",
      "=================================================================\n",
      "Total params: 1,739,242\n",
      "Trainable params: 1,739,142\n",
      "Non-trainable params: 100\n",
      "_________________________________________________________________\n"
     ]
    }
   ],
   "source": [
    "model.summary()"
   ]
  },
  {
   "cell_type": "code",
   "execution_count": 6,
   "metadata": {},
   "outputs": [],
   "source": [
    "model.compile(\n",
    "    optimizer = Adam(learning_rate=0.001),\n",
    "    loss = SparseCategoricalCrossentropy(),\n",
    "    metrics = [SparseCategoricalAccuracy()]\n",
    ")"
   ]
  },
  {
   "cell_type": "markdown",
   "metadata": {},
   "source": [
    "Test and train data\n",
    "\n",
    "Download the set from Kaggle\n",
    "\n",
    "https://www.kaggle.com/c/dogs-vs-cats/data\n",
    "\n",
    "Note: Pictures have different sizes"
   ]
  },
  {
   "cell_type": "code",
   "execution_count": 7,
   "metadata": {},
   "outputs": [],
   "source": [
    "BASE_DIR = os.path.abspath(\"./dogs-vs-cats/train\")"
   ]
  },
  {
   "cell_type": "code",
   "execution_count": 8,
   "metadata": {},
   "outputs": [],
   "source": [
    "filenames = []\n",
    "for image_class in os.listdir(BASE_DIR):    \n",
    "    folder_name = os.path.join(BASE_DIR,image_class)\n",
    "    filenames.append(image_class)"
   ]
  },
  {
   "cell_type": "code",
   "execution_count": 9,
   "metadata": {},
   "outputs": [
    {
     "data": {
      "text/plain": [
       "25000"
      ]
     },
     "execution_count": 9,
     "metadata": {},
     "output_type": "execute_result"
    }
   ],
   "source": [
    "len(filenames)"
   ]
  },
  {
   "cell_type": "code",
   "execution_count": 10,
   "metadata": {},
   "outputs": [],
   "source": [
    "# Reduce the dataset for the example\n",
    "train_filenames = filenames[:90]\n",
    "val_filenames = filenames[90:100]"
   ]
  },
  {
   "cell_type": "code",
   "execution_count": 11,
   "metadata": {},
   "outputs": [],
   "source": [
    "class_map = {\n",
    "    \"cat\" : 0,\n",
    "    \"dog\" : 1\n",
    "}"
   ]
  },
  {
   "cell_type": "code",
   "execution_count": 12,
   "metadata": {},
   "outputs": [],
   "source": [
    "train_classes = [class_map[f[:3]] for f in train_filenames]\n",
    "train_filenames = np.array([os.path.join(BASE_DIR,f) for f in train_filenames])"
   ]
  },
  {
   "cell_type": "code",
   "execution_count": 13,
   "metadata": {},
   "outputs": [
    {
     "data": {
      "text/plain": [
       "90"
      ]
     },
     "execution_count": 13,
     "metadata": {},
     "output_type": "execute_result"
    }
   ],
   "source": [
    "len(train_classes)"
   ]
  },
  {
   "cell_type": "code",
   "execution_count": 14,
   "metadata": {},
   "outputs": [],
   "source": [
    "val_classes = [class_map[f[:3]] for f in val_filenames]\n",
    "val_filenames = np.array([os.path.join(BASE_DIR,f) for f in val_filenames])"
   ]
  },
  {
   "cell_type": "code",
   "execution_count": 15,
   "metadata": {},
   "outputs": [
    {
     "data": {
      "text/plain": [
       "10"
      ]
     },
     "execution_count": 15,
     "metadata": {},
     "output_type": "execute_result"
    }
   ],
   "source": [
    "len(val_classes)"
   ]
  },
  {
   "cell_type": "markdown",
   "metadata": {},
   "source": [
    "Preparation of images"
   ]
  },
  {
   "cell_type": "code",
   "execution_count": 16,
   "metadata": {},
   "outputs": [],
   "source": [
    "def preprocess_image(x):\n",
    "    # Normalize\n",
    "    x = tf.cast(x, tf.float32) / 255.0\n",
    "\n",
    "    # 'RGB'->'BGR'\n",
    "    x = x[..., ::-1]\n",
    "    return x\n",
    "\n",
    "def read_and_prepare_image(image_filename, image_class):\n",
    "    # Get images\n",
    "    image = tf.io.read_file(image_filename)\n",
    "    image_decoded = tf.image.decode_jpeg(image)\n",
    "    \n",
    "    # Resize\n",
    "    image_resized = tf.image.resize(image_decoded, IMAGE_SIZE)\n",
    "    \n",
    "    image_tensor = preprocess_image(image_resized)\n",
    "    \n",
    "    return image_tensor, image_class"
   ]
  },
  {
   "cell_type": "code",
   "execution_count": 17,
   "metadata": {},
   "outputs": [],
   "source": [
    "def initialize_tf_dataset(filenames, classes, should_batch = True, should_repeat = True):\n",
    "    dataset_initial = tf.data.Dataset.from_tensor_slices((filenames, classes))\n",
    "    dataset_mapped = dataset_initial.map(read_and_prepare_image)\n",
    "    dataset_shuffled = dataset_mapped.shuffle(buffer_size = len(filenames))\n",
    "    \n",
    "    if should_batch:\n",
    "        dataset = dataset_shuffled.batch(BATCH_SIZE)\n",
    "    else:\n",
    "        dataset = dataset_shuffled.batch(len(data))\n",
    "        \n",
    "    if should_repeat:\n",
    "        dataset = dataset.repeat()\n",
    "    return dataset"
   ]
  },
  {
   "cell_type": "code",
   "execution_count": 18,
   "metadata": {},
   "outputs": [],
   "source": [
    "BATCH_SIZE = 32\n",
    "NUM_EPOCHS = 60"
   ]
  },
  {
   "cell_type": "code",
   "execution_count": 19,
   "metadata": {},
   "outputs": [],
   "source": [
    "train_data = initialize_tf_dataset(train_filenames, train_classes)"
   ]
  },
  {
   "cell_type": "code",
   "execution_count": 20,
   "metadata": {},
   "outputs": [],
   "source": [
    "steps_per_epoch_train = round(len(train_filenames) * 1.0 / BATCH_SIZE)"
   ]
  },
  {
   "cell_type": "code",
   "execution_count": 21,
   "metadata": {},
   "outputs": [
    {
     "data": {
      "text/plain": [
       "3"
      ]
     },
     "execution_count": 21,
     "metadata": {},
     "output_type": "execute_result"
    }
   ],
   "source": [
    "steps_per_epoch_train"
   ]
  },
  {
   "cell_type": "code",
   "execution_count": 22,
   "metadata": {},
   "outputs": [],
   "source": [
    "val_data = initialize_tf_dataset(val_filenames, val_classes)"
   ]
  },
  {
   "cell_type": "code",
   "execution_count": 23,
   "metadata": {},
   "outputs": [
    {
     "name": "stdout",
     "output_type": "stream",
     "text": [
      "Train for 3 steps\n",
      "Epoch 1/60\n",
      "3/3 [==============================] - 8s 3s/step - loss: 2.3731 - sparse_categorical_accuracy: 0.4889\n",
      "Epoch 2/60\n",
      "3/3 [==============================] - 7s 2s/step - loss: 0.6892 - sparse_categorical_accuracy: 0.5556\n",
      "Epoch 3/60\n",
      "3/3 [==============================] - 7s 2s/step - loss: 0.6856 - sparse_categorical_accuracy: 0.5556\n",
      "Epoch 4/60\n",
      "3/3 [==============================] - 8s 3s/step - loss: 0.6833 - sparse_categorical_accuracy: 0.5556\n",
      "Epoch 5/60\n",
      "3/3 [==============================] - 10s 3s/step - loss: 0.6830 - sparse_categorical_accuracy: 0.5556\n",
      "Epoch 6/60\n",
      "3/3 [==============================] - 9s 3s/step - loss: 0.6691 - sparse_categorical_accuracy: 0.5556\n",
      "Epoch 7/60\n",
      "3/3 [==============================] - 9s 3s/step - loss: 0.6620 - sparse_categorical_accuracy: 0.5556\n",
      "Epoch 8/60\n",
      "3/3 [==============================] - 9s 3s/step - loss: 0.6455 - sparse_categorical_accuracy: 0.5556\n",
      "Epoch 9/60\n",
      "3/3 [==============================] - 9s 3s/step - loss: 0.6087 - sparse_categorical_accuracy: 0.5556\n",
      "Epoch 10/60\n",
      "3/3 [==============================] - 9s 3s/step - loss: 0.5786 - sparse_categorical_accuracy: 0.5556\n",
      "Epoch 11/60\n",
      "3/3 [==============================] - 9s 3s/step - loss: 0.5244 - sparse_categorical_accuracy: 0.5556\n",
      "Epoch 12/60\n",
      "3/3 [==============================] - 9s 3s/step - loss: 0.4971 - sparse_categorical_accuracy: 0.5556\n",
      "Epoch 13/60\n",
      "3/3 [==============================] - 9s 3s/step - loss: 0.5133 - sparse_categorical_accuracy: 0.5556\n",
      "Epoch 14/60\n",
      "3/3 [==============================] - 9s 3s/step - loss: 0.5417 - sparse_categorical_accuracy: 0.5556\n",
      "Epoch 15/60\n",
      "3/3 [==============================] - 9s 3s/step - loss: 0.5800 - sparse_categorical_accuracy: 0.5556\n",
      "Epoch 16/60\n",
      "3/3 [==============================] - 9s 3s/step - loss: 0.4438 - sparse_categorical_accuracy: 0.5556\n",
      "Epoch 17/60\n",
      "3/3 [==============================] - 9s 3s/step - loss: 0.4922 - sparse_categorical_accuracy: 0.5556\n",
      "Epoch 18/60\n",
      "3/3 [==============================] - 9s 3s/step - loss: 0.4505 - sparse_categorical_accuracy: 0.5556\n",
      "Epoch 19/60\n",
      "3/3 [==============================] - 10s 3s/step - loss: 0.4259 - sparse_categorical_accuracy: 0.5556\n",
      "Epoch 20/60\n",
      "3/3 [==============================] - 9s 3s/step - loss: 0.4630 - sparse_categorical_accuracy: 0.5556\n",
      "Epoch 21/60\n",
      "3/3 [==============================] - 9s 3s/step - loss: 0.4024 - sparse_categorical_accuracy: 0.5556\n",
      "Epoch 22/60\n",
      "3/3 [==============================] - 10s 3s/step - loss: 0.3623 - sparse_categorical_accuracy: 0.5556\n",
      "Epoch 23/60\n",
      "3/3 [==============================] - 10s 3s/step - loss: 0.3629 - sparse_categorical_accuracy: 0.5556\n",
      "Epoch 24/60\n",
      "3/3 [==============================] - 9s 3s/step - loss: 0.3476 - sparse_categorical_accuracy: 0.5556\n",
      "Epoch 25/60\n",
      "3/3 [==============================] - 9s 3s/step - loss: 0.3453 - sparse_categorical_accuracy: 0.5556\n",
      "Epoch 26/60\n",
      "3/3 [==============================] - 9s 3s/step - loss: 0.3390 - sparse_categorical_accuracy: 0.5556\n",
      "Epoch 27/60\n",
      "3/3 [==============================] - 9s 3s/step - loss: 0.3314 - sparse_categorical_accuracy: 0.5556\n",
      "Epoch 28/60\n",
      "3/3 [==============================] - 9s 3s/step - loss: 0.3325 - sparse_categorical_accuracy: 0.5556\n",
      "Epoch 29/60\n",
      "3/3 [==============================] - 9s 3s/step - loss: 0.3345 - sparse_categorical_accuracy: 0.5556\n",
      "Epoch 30/60\n",
      "3/3 [==============================] - 9s 3s/step - loss: 0.3222 - sparse_categorical_accuracy: 0.5556\n",
      "Epoch 31/60\n",
      "3/3 [==============================] - 9s 3s/step - loss: 0.3275 - sparse_categorical_accuracy: 0.5556\n",
      "Epoch 32/60\n",
      "3/3 [==============================] - 9s 3s/step - loss: 0.3233 - sparse_categorical_accuracy: 0.5556\n",
      "Epoch 33/60\n",
      "3/3 [==============================] - 9s 3s/step - loss: 0.3161 - sparse_categorical_accuracy: 0.5556\n",
      "Epoch 34/60\n",
      "3/3 [==============================] - 9s 3s/step - loss: 0.3207 - sparse_categorical_accuracy: 0.5556\n",
      "Epoch 35/60\n",
      "3/3 [==============================] - 9s 3s/step - loss: 0.3180 - sparse_categorical_accuracy: 0.5556\n",
      "Epoch 36/60\n",
      "3/3 [==============================] - 9s 3s/step - loss: 0.3179 - sparse_categorical_accuracy: 0.5556\n",
      "Epoch 37/60\n",
      "3/3 [==============================] - 8s 3s/step - loss: 0.3152 - sparse_categorical_accuracy: 0.5556\n",
      "Epoch 38/60\n",
      "3/3 [==============================] - 9s 3s/step - loss: 0.3125 - sparse_categorical_accuracy: 0.5556\n",
      "Epoch 39/60\n",
      "3/3 [==============================] - 9s 3s/step - loss: 0.3150 - sparse_categorical_accuracy: 0.5556\n",
      "Epoch 40/60\n",
      "3/3 [==============================] - 9s 3s/step - loss: 0.3162 - sparse_categorical_accuracy: 0.5556\n",
      "Epoch 41/60\n",
      "3/3 [==============================] - 9s 3s/step - loss: 0.3162 - sparse_categorical_accuracy: 0.5556\n",
      "Epoch 42/60\n",
      "3/3 [==============================] - 9s 3s/step - loss: 0.3161 - sparse_categorical_accuracy: 0.5556\n",
      "Epoch 43/60\n",
      "3/3 [==============================] - 9s 3s/step - loss: 0.3111 - sparse_categorical_accuracy: 0.5556\n",
      "Epoch 44/60\n",
      "3/3 [==============================] - 9s 3s/step - loss: 0.3160 - sparse_categorical_accuracy: 0.5556\n",
      "Epoch 45/60\n",
      "3/3 [==============================] - 9s 3s/step - loss: 0.3173 - sparse_categorical_accuracy: 0.5556\n",
      "Epoch 46/60\n",
      "3/3 [==============================] - 7s 2s/step - loss: 0.3223 - sparse_categorical_accuracy: 0.5556\n",
      "Epoch 47/60\n",
      "3/3 [==============================] - 7s 2s/step - loss: 0.3160 - sparse_categorical_accuracy: 0.5556\n",
      "Epoch 48/60\n",
      "3/3 [==============================] - 7s 2s/step - loss: 0.3148 - sparse_categorical_accuracy: 0.5556\n",
      "Epoch 49/60\n",
      "3/3 [==============================] - 7s 2s/step - loss: 0.3123 - sparse_categorical_accuracy: 0.5556\n",
      "Epoch 50/60\n",
      "3/3 [==============================] - 7s 2s/step - loss: 0.3173 - sparse_categorical_accuracy: 0.5556\n",
      "Epoch 51/60\n",
      "3/3 [==============================] - 7s 2s/step - loss: 0.3172 - sparse_categorical_accuracy: 0.5556\n",
      "Epoch 52/60\n",
      "3/3 [==============================] - 7s 2s/step - loss: 0.3210 - sparse_categorical_accuracy: 0.5556\n",
      "Epoch 53/60\n",
      "3/3 [==============================] - 7s 2s/step - loss: 0.3123 - sparse_categorical_accuracy: 0.5556\n",
      "Epoch 54/60\n",
      "3/3 [==============================] - 7s 2s/step - loss: 0.3123 - sparse_categorical_accuracy: 0.5556\n",
      "Epoch 55/60\n",
      "3/3 [==============================] - 7s 2s/step - loss: 0.3148 - sparse_categorical_accuracy: 0.5556\n",
      "Epoch 56/60\n",
      "3/3 [==============================] - 7s 2s/step - loss: 0.3172 - sparse_categorical_accuracy: 0.5556\n",
      "Epoch 57/60\n",
      "3/3 [==============================] - 7s 2s/step - loss: 0.3185 - sparse_categorical_accuracy: 0.5556\n",
      "Epoch 58/60\n",
      "3/3 [==============================] - 7s 2s/step - loss: 0.3185 - sparse_categorical_accuracy: 0.5556\n",
      "Epoch 59/60\n",
      "3/3 [==============================] - 7s 2s/step - loss: 0.3135 - sparse_categorical_accuracy: 0.5556\n",
      "Epoch 60/60\n",
      "3/3 [==============================] - 7s 2s/step - loss: 0.3160 - sparse_categorical_accuracy: 0.5556\n"
     ]
    }
   ],
   "source": [
    "history = model.fit(train_data,\n",
    "                    epochs = NUM_EPOCHS,\n",
    "                    steps_per_epoch = steps_per_epoch_train,\n",
    "                   )"
   ]
  },
  {
   "cell_type": "code",
   "execution_count": 25,
   "metadata": {},
   "outputs": [
    {
     "data": {
      "text/plain": [
       "<matplotlib.legend.Legend at 0x7fd19824beb8>"
      ]
     },
     "execution_count": 25,
     "metadata": {},
     "output_type": "execute_result"
    },
    {
     "data": {
      "image/png": "[encoded data removed]",
      "text/plain": [
       "<Figure size 432x288 with 1 Axes>"
      ]
     },
     "metadata": {
      "needs_background": "light"
     },
     "output_type": "display_data"
    }
   ],
   "source": [
    "plt.plot(history.history['sparse_categorical_accuracy'], label = 'sparse_categorical_accuracy')\n",
    "plt.xlabel('Epoch')\n",
    "plt.ylabel('Accuracy')\n",
    "plt.legend(loc='lower right')"
   ]
  },
  {
   "cell_type": "code",
   "execution_count": 27,
   "metadata": {},
   "outputs": [
    {
     "name": "stdout",
     "output_type": "stream",
     "text": [
      "3/3 - 0s - loss: 0.7593 - sparse_categorical_accuracy: 0.5000\n"
     ]
    }
   ],
   "source": [
    "test_loss, test_acc = model.evaluate(val_data, steps = steps_per_epoch_train, verbose=2)"
   ]
  },
  {
   "cell_type": "code",
   "execution_count": 28,
   "metadata": {},
   "outputs": [
    {
     "data": {
      "text/plain": [
       "(0.7592518130938212, 0.5)"
      ]
     },
     "execution_count": 28,
     "metadata": {},
     "output_type": "execute_result"
    }
   ],
   "source": [
    "test_loss, test_acc"
   ]
  },
  {
   "cell_type": "code",
   "execution_count": null,
   "metadata": {},
   "outputs": [],
   "source": []
  }
 ],
 "metadata": {
  "kernelspec": {
   "display_name": "Python 3",
   "language": "python",
   "name": "python3"
  },
  "language_info": {
   "codemirror_mode": {
    "name": "ipython",
    "version": 3
   },
   "file_extension": ".py",
   "mimetype": "text/x-python",
   "name": "python",
   "nbconvert_exporter": "python",
   "pygments_lexer": "ipython3",
   "version": "3.6.9"
  }
 },
 "nbformat": 4,
 "nbformat_minor": 2
}
