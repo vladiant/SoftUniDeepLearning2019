{
 "cells": [
  {
   "cell_type": "code",
   "execution_count": 1,
   "metadata": {},
   "outputs": [],
   "source": [
    "%matplotlib inline"
   ]
  },
  {
   "cell_type": "code",
   "execution_count": 2,
   "metadata": {},
   "outputs": [],
   "source": [
    "import numpy as np\n",
    "import pandas as pd\n",
    "import matplotlib.pyplot as plt\n",
    "\n",
    "import os\n",
    "\n",
    "import tensorflow as tf\n",
    "\n",
    "from tensorflow.keras.models import Sequential\n",
    "from tensorflow.keras.layers import Input, Conv2D, MaxPool2D, BatchNormalization, Flatten, Dense\n",
    "\n",
    "from tensorflow.keras.optimizers import Adam\n",
    "from tensorflow.keras.losses import SparseCategoricalCrossentropy\n",
    "from tensorflow.keras.metrics import SparseCategoricalAccuracy "
   ]
  },
  {
   "cell_type": "markdown",
   "metadata": {},
   "source": [
    "# Delving Deeper into Conolutional Neural Networks"
   ]
  },
  {
   "cell_type": "code",
   "execution_count": 3,
   "metadata": {},
   "outputs": [],
   "source": [
    "model = Sequential([\n",
    "    Input(shape=(224, 224, 3)),\n",
    "    Conv2D(20, 3, padding = \"same\", activation = tf.keras.activations.relu),\n",
    "    Conv2D(20, 3, padding = \"same\", activation = tf.keras.activations.relu),\n",
    "    MaxPool2D(),\n",
    "    Conv2D(50, 3, padding = \"same\", activation = tf.keras.activations.relu),\n",
    "    Conv2D(50, 3, padding = \"same\", activation = tf.keras.activations.relu),\n",
    "    MaxPool2D(),\n",
    "    BatchNormalization(),\n",
    "    Conv2D(100, 3, padding = \"same\", activation = tf.keras.activations.relu),\n",
    "    Conv2D(100, 3, padding = \"same\", activation = tf.keras.activations.relu),\n",
    "    MaxPool2D(),\n",
    "    Flatten(),\n",
    "    Dense(units=20, activation=tf.keras.activations.relu),\n",
    "    Dense(units=1, activation=tf.keras.activations.sigmoid)\n",
    "])"
   ]
  },
  {
   "cell_type": "code",
   "execution_count": 4,
   "metadata": {},
   "outputs": [
    {
     "name": "stdout",
     "output_type": "stream",
     "text": [
      "Model: \"sequential\"\n",
      "_________________________________________________________________\n",
      "Layer (type)                 Output Shape              Param #   \n",
      "=================================================================\n",
      "conv2d (Conv2D)              (None, 224, 224, 20)      560       \n",
      "_________________________________________________________________\n",
      "conv2d_1 (Conv2D)            (None, 224, 224, 20)      3620      \n",
      "_________________________________________________________________\n",
      "max_pooling2d (MaxPooling2D) (None, 112, 112, 20)      0         \n",
      "_________________________________________________________________\n",
      "conv2d_2 (Conv2D)            (None, 112, 112, 50)      9050      \n",
      "_________________________________________________________________\n",
      "conv2d_3 (Conv2D)            (None, 112, 112, 50)      22550     \n",
      "_________________________________________________________________\n",
      "max_pooling2d_1 (MaxPooling2 (None, 56, 56, 50)        0         \n",
      "_________________________________________________________________\n",
      "batch_normalization (BatchNo (None, 56, 56, 50)        200       \n",
      "_________________________________________________________________\n",
      "conv2d_4 (Conv2D)            (None, 56, 56, 100)       45100     \n",
      "_________________________________________________________________\n",
      "conv2d_5 (Conv2D)            (None, 56, 56, 100)       90100     \n",
      "_________________________________________________________________\n",
      "max_pooling2d_2 (MaxPooling2 (None, 28, 28, 100)       0         \n",
      "_________________________________________________________________\n",
      "flatten (Flatten)            (None, 78400)             0         \n",
      "_________________________________________________________________\n",
      "dense (Dense)                (None, 20)                1568020   \n",
      "_________________________________________________________________\n",
      "dense_1 (Dense)              (None, 1)                 21        \n",
      "=================================================================\n",
      "Total params: 1,739,221\n",
      "Trainable params: 1,739,121\n",
      "Non-trainable params: 100\n",
      "_________________________________________________________________\n"
     ]
    }
   ],
   "source": [
    "model.summary()"
   ]
  },
  {
   "cell_type": "code",
   "execution_count": 5,
   "metadata": {},
   "outputs": [],
   "source": [
    "model.compile(\n",
    "    optimizer = Adam(learning_rate=0.001),\n",
    "    loss = SparseCategoricalCrossentropy(),\n",
    "    metrics = [SparseCategoricalAccuracy()]\n",
    ")"
   ]
  },
  {
   "cell_type": "code",
   "execution_count": 6,
   "metadata": {},
   "outputs": [],
   "source": [
    "# layer.input_shape\n",
    "# layer.output_shape"
   ]
  },
  {
   "cell_type": "code",
   "execution_count": 7,
   "metadata": {},
   "outputs": [],
   "source": [
    "filenames = []\n",
    "\n",
    "# Download the set from Kaggle\n",
    "# https://www.kaggle.com/c/dogs-vs-cats/data\n",
    "\n",
    "# BASE_DIR = \"./dogs-vs-cats/train\"\n",
    "BASE_DIR = os.path.abspath(\"./dogs-vs-cats/train\")\n",
    "\n",
    "# os.listdir(BASE_DIR)\n",
    "# BASE_DIR + \"/cat.\"\n",
    "for image_class in os.listdir(BASE_DIR):\n",
    "    folder_name = BASE_DIR + \"/\" + image_class\n",
    "    filenames.append(image_class)\n",
    "    \n",
    "# len(filenames)\n",
    "# [f for f in filenames if 'dog' in f]\n",
    "# [f for f in filenames if 'cat' in f]"
   ]
  },
  {
   "cell_type": "code",
   "execution_count": 8,
   "metadata": {},
   "outputs": [],
   "source": [
    "filenames = np.array(filenames)\n",
    "classes = [f[:3] for f in filenames]"
   ]
  },
  {
   "cell_type": "code",
   "execution_count": 9,
   "metadata": {},
   "outputs": [],
   "source": [
    "def read_data(filename, label):\n",
    "    print(filename, label)\n",
    "    \n",
    "    result_file = tf.io.read_file(BASE_DIR + filename)\n",
    "    result_image = tf.image.decode_image(result_file)\n",
    "#     result_image = tf.image.resize(result_image, (224, 224))\n",
    "    result_image = tf.cast(result_image, tf.float32) / 255.0\n",
    "    return (result_image, label)"
   ]
  },
  {
   "cell_type": "code",
   "execution_count": 10,
   "metadata": {},
   "outputs": [
    {
     "name": "stdout",
     "output_type": "stream",
     "text": [
      "Tensor(\"args_0:0\", shape=(), dtype=string) Tensor(\"args_1:0\", shape=(), dtype=string)\n"
     ]
    }
   ],
   "source": [
    "# This is required to process large quantity of images!\n",
    "# See from_tensors too\n",
    "# Use the same approach for prediction dataset\n",
    "\n",
    "dataset = tf.data.Dataset.from_tensor_slices((filenames, classes))\n",
    "\n",
    "# for item in dataset:\n",
    "#     print(item)\n",
    "#     break\n",
    "\n",
    "# This has to be the first! ; Consider \"interleave\" method\n",
    "dataset = dataset.map(read_data)\n",
    "\n",
    "# Count of elements to be shuffled; consider \"reshuffle_each_iteration\"\n",
    "dataset = dataset.shuffle(len(filenames))\n",
    "\n",
    "# 32 images at once; should be power of 2\n",
    "dataset = dataset.batch(32)\n",
    "\n",
    "# To work for multiple epochs; No parameter - infinite repetitions\n",
    "dataset = dataset.repeat()"
   ]
  },
  {
   "cell_type": "code",
   "execution_count": 11,
   "metadata": {},
   "outputs": [],
   "source": [
    "# Incomplete, Does not work now!\n",
    "# model.fit(dataset, steps_per_epoch=int(len(dataset)/32) ) # same as batchsize above"
   ]
  },
  {
   "cell_type": "code",
   "execution_count": null,
   "metadata": {},
   "outputs": [],
   "source": []
  }
 ],
 "metadata": {
  "kernelspec": {
   "display_name": "Python 3",
   "language": "python",
   "name": "python3"
  },
  "language_info": {
   "codemirror_mode": {
    "name": "ipython",
    "version": 3
   },
   "file_extension": ".py",
   "mimetype": "text/x-python",
   "name": "python",
   "nbconvert_exporter": "python",
   "pygments_lexer": "ipython3",
   "version": "3.6.9"
  }
 },
 "nbformat": 4,
 "nbformat_minor": 2
}
