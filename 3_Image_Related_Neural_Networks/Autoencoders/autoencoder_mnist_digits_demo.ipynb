{
 "cells": [
  {
   "cell_type": "markdown",
   "metadata": {},
   "source": [
    "Edureka\n",
    "https://www.edureka.co/ai-deep-learning-with-tensorflow"
   ]
  },
  {
   "cell_type": "code",
   "execution_count": 1,
   "metadata": {},
   "outputs": [],
   "source": [
    "import numpy as np"
   ]
  },
  {
   "cell_type": "code",
   "execution_count": 2,
   "metadata": {},
   "outputs": [],
   "source": [
    "from tensorflow.keras.layers import Input, Dense\n",
    "from tensorflow.keras.models import Model\n",
    "from tensorflow.keras.datasets import mnist"
   ]
  },
  {
   "cell_type": "code",
   "execution_count": 3,
   "metadata": {},
   "outputs": [],
   "source": [
    "import matplotlib.pyplot as plt"
   ]
  },
  {
   "cell_type": "markdown",
   "metadata": {},
   "source": [
    "The size of the encoded representations"
   ]
  },
  {
   "cell_type": "code",
   "execution_count": 4,
   "metadata": {},
   "outputs": [],
   "source": [
    "encoding_dim = 32 # 32 floats -> compression of factor 24.5, assuming the input is 784 floats"
   ]
  },
  {
   "cell_type": "markdown",
   "metadata": {},
   "source": [
    "The input placeholder"
   ]
  },
  {
   "cell_type": "code",
   "execution_count": 5,
   "metadata": {},
   "outputs": [],
   "source": [
    "input_img = Input(shape=(784,))"
   ]
  },
  {
   "cell_type": "markdown",
   "metadata": {},
   "source": [
    "\"encoded\" is the encoded representation of the input"
   ]
  },
  {
   "cell_type": "code",
   "execution_count": 6,
   "metadata": {},
   "outputs": [],
   "source": [
    "encoded = Dense(encoding_dim, activation='relu')(input_img)"
   ]
  },
  {
   "cell_type": "markdown",
   "metadata": {},
   "source": [
    "\"decoded\" is the lossy reconstruction of the input"
   ]
  },
  {
   "cell_type": "code",
   "execution_count": 7,
   "metadata": {},
   "outputs": [],
   "source": [
    "decoded = Dense(784, activation='sigmoid')(encoded)"
   ]
  },
  {
   "cell_type": "markdown",
   "metadata": {},
   "source": [
    "This model maps an input to its reconstruction"
   ]
  },
  {
   "cell_type": "code",
   "execution_count": 8,
   "metadata": {},
   "outputs": [],
   "source": [
    "autoencoder = Model(input_img, decoded)"
   ]
  },
  {
   "cell_type": "markdown",
   "metadata": {},
   "source": [
    "This model maps an input to its encoded representation"
   ]
  },
  {
   "cell_type": "code",
   "execution_count": 9,
   "metadata": {},
   "outputs": [],
   "source": [
    "encoder = Model(input_img, encoded)"
   ]
  },
  {
   "cell_type": "markdown",
   "metadata": {},
   "source": [
    "Create a placeholder for an encoded (32 dimensional) input"
   ]
  },
  {
   "cell_type": "code",
   "execution_count": 10,
   "metadata": {},
   "outputs": [],
   "source": [
    "encoded_input = Input(shape=(encoding_dim,))"
   ]
  },
  {
   "cell_type": "markdown",
   "metadata": {},
   "source": [
    "Retreive the last layer of the autoencoder model"
   ]
  },
  {
   "cell_type": "code",
   "execution_count": 11,
   "metadata": {},
   "outputs": [],
   "source": [
    "decoder_layer = autoencoder.layers[-1]"
   ]
  },
  {
   "cell_type": "markdown",
   "metadata": {},
   "source": [
    "Create the decoder model"
   ]
  },
  {
   "cell_type": "code",
   "execution_count": 12,
   "metadata": {},
   "outputs": [],
   "source": [
    "decoder = Model(encoded_input, decoder_layer(encoded_input))"
   ]
  },
  {
   "cell_type": "markdown",
   "metadata": {},
   "source": [
    "Configure our model to use a per-pixel binary crossentropy loss"
   ]
  },
  {
   "cell_type": "code",
   "execution_count": 13,
   "metadata": {},
   "outputs": [],
   "source": [
    "autoencoder.compile(optimizer='adam', loss='binary_crossentropy')"
   ]
  },
  {
   "cell_type": "markdown",
   "metadata": {},
   "source": [
    "Prepare our input data. We're using MNIST digits and we're discarding the labels"
   ]
  },
  {
   "cell_type": "code",
   "execution_count": 14,
   "metadata": {},
   "outputs": [],
   "source": [
    "(x_train, _), (x_test, _) = mnist.load_data()"
   ]
  },
  {
   "cell_type": "markdown",
   "metadata": {},
   "source": [
    "Normalize all values between 0 and 1 and we will flatten the 28x28 imagesinto vectors of size 784"
   ]
  },
  {
   "cell_type": "code",
   "execution_count": 15,
   "metadata": {},
   "outputs": [],
   "source": [
    "x_train = x_train.astype('float32') / 255.\n",
    "x_test = x_test.astype('float32') / 255."
   ]
  },
  {
   "cell_type": "code",
   "execution_count": 16,
   "metadata": {},
   "outputs": [],
   "source": [
    "x_train = x_train.reshape((len(x_train), np.prod(x_train.shape[1:])))\n",
    "x_test = x_test.reshape((len(x_test), np.prod(x_test.shape[1:])))"
   ]
  },
  {
   "cell_type": "code",
   "execution_count": 17,
   "metadata": {},
   "outputs": [
    {
     "name": "stdout",
     "output_type": "stream",
     "text": [
      "(60000, 784)\n"
     ]
    }
   ],
   "source": [
    "print(x_train.shape)"
   ]
  },
  {
   "cell_type": "code",
   "execution_count": 18,
   "metadata": {},
   "outputs": [
    {
     "name": "stdout",
     "output_type": "stream",
     "text": [
      "(10000, 784)\n"
     ]
    }
   ],
   "source": [
    "print(x_test.shape)"
   ]
  },
  {
   "cell_type": "markdown",
   "metadata": {},
   "source": [
    "Train autoencoder for 50 epochs"
   ]
  },
  {
   "cell_type": "code",
   "execution_count": 19,
   "metadata": {},
   "outputs": [
    {
     "name": "stdout",
     "output_type": "stream",
     "text": [
      "Train on 60000 samples, validate on 10000 samples\n",
      "Epoch 1/50\n",
      "60000/60000 [==============================] - 2s 25us/sample - loss: 0.2753 - val_loss: 0.1896\n",
      "Epoch 2/50\n",
      "60000/60000 [==============================] - 1s 19us/sample - loss: 0.1700 - val_loss: 0.1526\n",
      "Epoch 3/50\n",
      "60000/60000 [==============================] - 1s 19us/sample - loss: 0.1441 - val_loss: 0.1341\n",
      "Epoch 4/50\n",
      "60000/60000 [==============================] - 1s 19us/sample - loss: 0.1292 - val_loss: 0.1222\n",
      "Epoch 5/50\n",
      "60000/60000 [==============================] - 1s 19us/sample - loss: 0.1193 - val_loss: 0.1139\n",
      "Epoch 6/50\n",
      "60000/60000 [==============================] - 1s 22us/sample - loss: 0.1122 - val_loss: 0.1081\n",
      "Epoch 7/50\n",
      "60000/60000 [==============================] - 1s 20us/sample - loss: 0.1072 - val_loss: 0.1037\n",
      "Epoch 8/50\n",
      "60000/60000 [==============================] - 1s 19us/sample - loss: 0.1033 - val_loss: 0.1003\n",
      "Epoch 9/50\n",
      "60000/60000 [==============================] - 1s 20us/sample - loss: 0.1003 - val_loss: 0.0978\n",
      "Epoch 10/50\n",
      "60000/60000 [==============================] - 1s 19us/sample - loss: 0.0981 - val_loss: 0.0960\n",
      "Epoch 11/50\n",
      "60000/60000 [==============================] - 1s 20us/sample - loss: 0.0967 - val_loss: 0.0948\n",
      "Epoch 12/50\n",
      "60000/60000 [==============================] - 1s 21us/sample - loss: 0.0957 - val_loss: 0.0941\n",
      "Epoch 13/50\n",
      "60000/60000 [==============================] - 1s 21us/sample - loss: 0.0951 - val_loss: 0.0936\n",
      "Epoch 14/50\n",
      "60000/60000 [==============================] - 1s 19us/sample - loss: 0.0947 - val_loss: 0.0932\n",
      "Epoch 15/50\n",
      "60000/60000 [==============================] - 1s 19us/sample - loss: 0.0944 - val_loss: 0.0930\n",
      "Epoch 16/50\n",
      "60000/60000 [==============================] - 1s 19us/sample - loss: 0.0941 - val_loss: 0.0928\n",
      "Epoch 17/50\n",
      "60000/60000 [==============================] - 1s 19us/sample - loss: 0.0939 - val_loss: 0.0926\n",
      "Epoch 18/50\n",
      "60000/60000 [==============================] - 1s 20us/sample - loss: 0.0938 - val_loss: 0.0926\n",
      "Epoch 19/50\n",
      "60000/60000 [==============================] - 1s 20us/sample - loss: 0.0936 - val_loss: 0.0923\n",
      "Epoch 20/50\n",
      "60000/60000 [==============================] - 1s 20us/sample - loss: 0.0935 - val_loss: 0.0923\n",
      "Epoch 21/50\n",
      "60000/60000 [==============================] - 1s 20us/sample - loss: 0.0934 - val_loss: 0.0922\n",
      "Epoch 22/50\n",
      "60000/60000 [==============================] - 1s 20us/sample - loss: 0.0934 - val_loss: 0.0921\n",
      "Epoch 23/50\n",
      "60000/60000 [==============================] - 1s 20us/sample - loss: 0.0933 - val_loss: 0.0922\n",
      "Epoch 24/50\n",
      "60000/60000 [==============================] - 1s 20us/sample - loss: 0.0932 - val_loss: 0.0920\n",
      "Epoch 25/50\n",
      "60000/60000 [==============================] - 1s 20us/sample - loss: 0.0932 - val_loss: 0.0920\n",
      "Epoch 26/50\n",
      "60000/60000 [==============================] - 1s 20us/sample - loss: 0.0931 - val_loss: 0.0920\n",
      "Epoch 27/50\n",
      "60000/60000 [==============================] - 1s 20us/sample - loss: 0.0931 - val_loss: 0.0919\n",
      "Epoch 28/50\n",
      "60000/60000 [==============================] - 1s 20us/sample - loss: 0.0930 - val_loss: 0.0919\n",
      "Epoch 29/50\n",
      "60000/60000 [==============================] - 1s 20us/sample - loss: 0.0930 - val_loss: 0.0919\n",
      "Epoch 30/50\n",
      "60000/60000 [==============================] - 1s 20us/sample - loss: 0.0930 - val_loss: 0.0919\n",
      "Epoch 31/50\n",
      "60000/60000 [==============================] - 1s 20us/sample - loss: 0.0929 - val_loss: 0.0921\n",
      "Epoch 32/50\n",
      "60000/60000 [==============================] - 1s 20us/sample - loss: 0.0929 - val_loss: 0.0918\n",
      "Epoch 33/50\n",
      "60000/60000 [==============================] - 1s 22us/sample - loss: 0.0929 - val_loss: 0.0918\n",
      "Epoch 34/50\n",
      "60000/60000 [==============================] - 1s 20us/sample - loss: 0.0929 - val_loss: 0.0918\n",
      "Epoch 35/50\n",
      "60000/60000 [==============================] - 1s 20us/sample - loss: 0.0929 - val_loss: 0.0917\n",
      "Epoch 36/50\n",
      "60000/60000 [==============================] - 1s 20us/sample - loss: 0.0928 - val_loss: 0.0917\n",
      "Epoch 37/50\n",
      "60000/60000 [==============================] - 1s 20us/sample - loss: 0.0928 - val_loss: 0.0917\n",
      "Epoch 38/50\n",
      "60000/60000 [==============================] - 1s 20us/sample - loss: 0.0928 - val_loss: 0.0918\n",
      "Epoch 39/50\n",
      "60000/60000 [==============================] - 1s 20us/sample - loss: 0.0928 - val_loss: 0.0917\n",
      "Epoch 40/50\n",
      "60000/60000 [==============================] - 1s 20us/sample - loss: 0.0928 - val_loss: 0.0916\n",
      "Epoch 41/50\n",
      "60000/60000 [==============================] - 1s 20us/sample - loss: 0.0927 - val_loss: 0.0916\n",
      "Epoch 42/50\n",
      "60000/60000 [==============================] - 1s 20us/sample - loss: 0.0927 - val_loss: 0.0917\n",
      "Epoch 43/50\n",
      "60000/60000 [==============================] - 1s 20us/sample - loss: 0.0927 - val_loss: 0.0916\n",
      "Epoch 44/50\n",
      "60000/60000 [==============================] - 1s 20us/sample - loss: 0.0927 - val_loss: 0.0916\n",
      "Epoch 45/50\n",
      "60000/60000 [==============================] - 1s 20us/sample - loss: 0.0927 - val_loss: 0.0916\n",
      "Epoch 46/50\n",
      "60000/60000 [==============================] - 1s 20us/sample - loss: 0.0927 - val_loss: 0.0917\n",
      "Epoch 47/50\n",
      "60000/60000 [==============================] - 1s 22us/sample - loss: 0.0927 - val_loss: 0.0916\n",
      "Epoch 48/50\n",
      "60000/60000 [==============================] - 1s 21us/sample - loss: 0.0927 - val_loss: 0.0916\n",
      "Epoch 49/50\n",
      "60000/60000 [==============================] - 1s 20us/sample - loss: 0.0927 - val_loss: 0.0916\n",
      "Epoch 50/50\n",
      "60000/60000 [==============================] - 1s 19us/sample - loss: 0.0926 - val_loss: 0.0916\n"
     ]
    },
    {
     "data": {
      "text/plain": [
       "<tensorflow.python.keras.callbacks.History at 0x7f57d0542470>"
      ]
     },
     "execution_count": 19,
     "metadata": {},
     "output_type": "execute_result"
    }
   ],
   "source": [
    "autoencoder.fit(x_train, x_train,\n",
    "               epochs=50,\n",
    "               batch_size=256,\n",
    "               shuffle=True,\n",
    "               validation_data=(x_test,x_test))"
   ]
  },
  {
   "cell_type": "markdown",
   "metadata": {},
   "source": [
    "Encode and decode some digits.\n",
    "\n",
    "Note that we take them from the *test* set"
   ]
  },
  {
   "cell_type": "code",
   "execution_count": 20,
   "metadata": {},
   "outputs": [],
   "source": [
    "encoded_imgs = encoder.predict(x_test)\n",
    "decoded_imgs = decoder.predict(encoded_imgs)"
   ]
  },
  {
   "cell_type": "markdown",
   "metadata": {},
   "source": [
    "Visualize the reconstructed inputs and the encoded representation."
   ]
  },
  {
   "cell_type": "code",
   "execution_count": 21,
   "metadata": {},
   "outputs": [],
   "source": [
    "n = 20 # how many digits we will display"
   ]
  },
  {
   "cell_type": "code",
   "execution_count": 22,
   "metadata": {},
   "outputs": [
    {
     "data": {
      "image/png": "[encoded data removed]",
      "text/plain": [
       "<Figure size 1440x288 with 40 Axes>"
      ]
     },
     "metadata": {
      "needs_background": "light"
     },
     "output_type": "display_data"
    }
   ],
   "source": [
    "plt.figure(figsize=(20, 4))\n",
    "for i in range(n):\n",
    "    # display original\n",
    "    ax = plt.subplot(2, n, i + 1)\n",
    "    plt.imshow(x_test[i].reshape(28, 28))\n",
    "    plt.gray()\n",
    "    ax.get_xaxis().set_visible(False)\n",
    "    ax.get_yaxis().set_visible(False)\n",
    "    \n",
    "    # display reconstruction\n",
    "    ax = plt.subplot(2, n, i + 1 + n)\n",
    "    plt.imshow(decoded_imgs[i].reshape(28, 28))\n",
    "    plt.gray()\n",
    "    ax.get_xaxis().set_visible(False)\n",
    "    ax.get_yaxis().set_visible(False)\n",
    "plt.show()"
   ]
  },
  {
   "cell_type": "code",
   "execution_count": null,
   "metadata": {},
   "outputs": [],
   "source": []
  }
 ],
 "metadata": {
  "kernelspec": {
   "display_name": "Python 3",
   "language": "python",
   "name": "python3"
  },
  "language_info": {
   "codemirror_mode": {
    "name": "ipython",
    "version": 3
   },
   "file_extension": ".py",
   "mimetype": "text/x-python",
   "name": "python",
   "nbconvert_exporter": "python",
   "pygments_lexer": "ipython3",
   "version": "3.6.9"
  }
 },
 "nbformat": 4,
 "nbformat_minor": 2
}
