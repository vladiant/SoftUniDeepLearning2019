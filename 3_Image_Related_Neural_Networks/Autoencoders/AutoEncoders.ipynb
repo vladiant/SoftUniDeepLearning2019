{
 "cells": [
  {
   "cell_type": "code",
   "execution_count": 1,
   "metadata": {},
   "outputs": [],
   "source": [
    "%matplotlib inline"
   ]
  },
  {
   "cell_type": "code",
   "execution_count": 2,
   "metadata": {},
   "outputs": [],
   "source": [
    "import numpy as np\n",
    "import pandas as pd\n",
    "import matplotlib.pyplot as plt\n",
    "\n",
    "import tensorflow as tf\n",
    "\n",
    "from tensorflow.keras.models import Sequential, clone_model\n",
    "from tensorflow.keras.layers import Input, Dense, Conv2D, MaxPooling2D, UpSampling2D\n",
    "from tensorflow.keras.activations import relu, sigmoid\n",
    "from tensorflow.keras.regularizers import l1\n",
    "\n",
    "from tensorflow.keras.optimizers import Adam\n",
    "from tensorflow.keras.losses import MeanSquaredError"
   ]
  },
  {
   "cell_type": "markdown",
   "metadata": {},
   "source": [
    "# Deep inside: Autoencoders\n",
    "Source: https://towardsdatascience.com/deep-inside-autoencoders-7e41f319999f"
   ]
  },
  {
   "cell_type": "markdown",
   "metadata": {},
   "source": [
    "## Vanilla autoencoder"
   ]
  },
  {
   "cell_type": "code",
   "execution_count": 3,
   "metadata": {},
   "outputs": [],
   "source": [
    "vanilla_input_size = 784\n",
    "vanilla_hidden_size = 64\n",
    "vanilla_output_size = 784"
   ]
  },
  {
   "cell_type": "code",
   "execution_count": 4,
   "metadata": {},
   "outputs": [],
   "source": [
    "vanilla_autoencoder = Sequential([\n",
    "        Input(shape=(vanilla_input_size)),\n",
    "        Dense(vanilla_hidden_size, activation=relu), # Encoder\n",
    "        Dense(vanilla_output_size, activation=sigmoid) # Decoder\n",
    "    ])"
   ]
  },
  {
   "cell_type": "code",
   "execution_count": 5,
   "metadata": {},
   "outputs": [],
   "source": [
    "vanilla_autoencoder.compile(optimizer=Adam(), loss=MeanSquaredError())"
   ]
  },
  {
   "cell_type": "markdown",
   "metadata": {},
   "source": [
    "## Multilayer autoencoder"
   ]
  },
  {
   "cell_type": "code",
   "execution_count": 6,
   "metadata": {},
   "outputs": [],
   "source": [
    "multilayer_input_size = 784\n",
    "multilayer_hidden_size = 128\n",
    "multilayer_code_size = 64"
   ]
  },
  {
   "cell_type": "code",
   "execution_count": 7,
   "metadata": {},
   "outputs": [],
   "source": [
    "multilayer_autoencoder = Sequential([\n",
    "        Input(shape=(multilayer_input_size)),\n",
    "        # Encoder\n",
    "        Dense(multilayer_hidden_size, activation=relu),\n",
    "        Dense(multilayer_code_size, activation='relu'),\n",
    "        # Decoder\n",
    "        Dense(multilayer_hidden_size, activation='relu'),\n",
    "        Dense(multilayer_input_size, activation=sigmoid) \n",
    "    ])"
   ]
  },
  {
   "cell_type": "code",
   "execution_count": 8,
   "metadata": {},
   "outputs": [],
   "source": [
    "multilayer_autoencoder.compile(optimizer=Adam(), loss=MeanSquaredError())"
   ]
  },
  {
   "cell_type": "markdown",
   "metadata": {},
   "source": [
    "## Convolutional autoencoder"
   ]
  },
  {
   "cell_type": "code",
   "execution_count": 9,
   "metadata": {},
   "outputs": [],
   "source": [
    "convolutional_autoencoder = Sequential([\n",
    "        Input(shape=(28, 28,1)),\n",
    "        # Encoder\n",
    "        Conv2D(16, (3, 3), activation=relu, padding='same'),\n",
    "        MaxPooling2D((2, 2), padding='same'),\n",
    "        Conv2D(8, (3, 3), activation=relu, padding='same'),\n",
    "        MaxPooling2D((2, 2), padding='same'),\n",
    "        Conv2D(8, (3, 3), activation=relu, padding='same'),\n",
    "        MaxPooling2D((2, 2), padding='same'),\n",
    "        # Decoder\n",
    "        Conv2D(8, (3, 3), activation=relu, padding='same'),\n",
    "        UpSampling2D((2, 2)),\n",
    "        Conv2D(8, (3, 3), activation=relu, padding='same'),\n",
    "        UpSampling2D((2, 2)),\n",
    "        Conv2D(16, (3, 3), activation=relu, padding='same'),\n",
    "        UpSampling2D((2, 2)),\n",
    "        Conv2D(1, (3, 3), activation=sigmoid, padding='same')\n",
    "    ])"
   ]
  },
  {
   "cell_type": "code",
   "execution_count": 10,
   "metadata": {},
   "outputs": [],
   "source": [
    "convolutional_autoencoder.compile(optimizer=Adam(), loss=MeanSquaredError())"
   ]
  },
  {
   "cell_type": "markdown",
   "metadata": {},
   "source": [
    "## Regularized autoencoder (sparse)"
   ]
  },
  {
   "cell_type": "code",
   "execution_count": 11,
   "metadata": {},
   "outputs": [],
   "source": [
    "sparse_input_size = 784\n",
    "sparse_hidden_size = 64\n",
    "sparse_output_size = 784"
   ]
  },
  {
   "cell_type": "code",
   "execution_count": 12,
   "metadata": {},
   "outputs": [],
   "source": [
    "sparse_autoencoder = Sequential([\n",
    "        Input(shape=(sparse_input_size)),\n",
    "        Dense(sparse_hidden_size, activation=relu, activity_regularizer=l1(10e-5)), # Encoder\n",
    "        Dense(sparse_output_size, activation=sigmoid) # Decoder\n",
    "    ])"
   ]
  },
  {
   "cell_type": "code",
   "execution_count": 13,
   "metadata": {},
   "outputs": [],
   "source": [
    "sparse_autoencoder.compile(optimizer=Adam(), loss=MeanSquaredError())"
   ]
  },
  {
   "cell_type": "markdown",
   "metadata": {},
   "source": [
    "## Regularized autoencoder (denoising)"
   ]
  },
  {
   "cell_type": "code",
   "execution_count": 14,
   "metadata": {},
   "outputs": [],
   "source": [
    "denoising_autoencoder = Sequential([\n",
    "        Input(shape=(28, 28,1)),\n",
    "        # Encoder\n",
    "        Conv2D(32, (3, 3), activation=relu, padding='same'),\n",
    "        MaxPooling2D((2, 2), padding='same'),\n",
    "        Conv2D(32, (3, 3), activation=relu, padding='same'),\n",
    "        MaxPooling2D((2, 2), padding='same'),\n",
    "        # Decoder\n",
    "        Conv2D(32, (3, 3), activation=relu, padding='same'),\n",
    "        UpSampling2D((2, 2)),\n",
    "        Conv2D(32, (3, 3), activation=relu, padding='same'),\n",
    "        UpSampling2D((2, 2)),\n",
    "        Conv2D(1, (3, 3), activation=sigmoid, padding='same')\n",
    "    ])"
   ]
  },
  {
   "cell_type": "code",
   "execution_count": 15,
   "metadata": {},
   "outputs": [],
   "source": [
    "denoising_autoencoder.compile(optimizer=Adam(), loss=MeanSquaredError())"
   ]
  },
  {
   "cell_type": "code",
   "execution_count": null,
   "metadata": {},
   "outputs": [],
   "source": []
  }
 ],
 "metadata": {
  "kernelspec": {
   "display_name": "Python 3",
   "language": "python",
   "name": "python3"
  },
  "language_info": {
   "codemirror_mode": {
    "name": "ipython",
    "version": 3
   },
   "file_extension": ".py",
   "mimetype": "text/x-python",
   "name": "python",
   "nbconvert_exporter": "python",
   "pygments_lexer": "ipython3",
   "version": "3.6.9"
  }
 },
 "nbformat": 4,
 "nbformat_minor": 2
}
