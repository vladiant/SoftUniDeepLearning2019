{
 "cells": [
  {
   "cell_type": "markdown",
   "metadata": {},
   "source": [
    "Edureka:\n",
    "\n",
    "https://www.edureka.co/ai-deep-learning-with-tensorflow\n",
    "\n",
    "Deep inside Autoencoders: https://towardsdatascience.com/deep-inside-autoencoders-7e41f319999f"
   ]
  },
  {
   "cell_type": "code",
   "execution_count": 1,
   "metadata": {},
   "outputs": [],
   "source": [
    "import numpy as np"
   ]
  },
  {
   "cell_type": "code",
   "execution_count": 2,
   "metadata": {},
   "outputs": [],
   "source": [
    "from tensorflow.keras.layers import Input, Dense\n",
    "from tensorflow.keras.models import Sequential\n",
    "from tensorflow.keras.activations import relu, sigmoid\n",
    "from tensorflow.keras.optimizers import Adam\n",
    "from tensorflow.keras.losses import MeanSquaredError\n",
    "\n",
    "from tensorflow.keras.datasets import mnist"
   ]
  },
  {
   "cell_type": "code",
   "execution_count": 3,
   "metadata": {},
   "outputs": [],
   "source": [
    "import matplotlib.pyplot as plt"
   ]
  },
  {
   "cell_type": "markdown",
   "metadata": {},
   "source": [
    "Autoencoder sizes"
   ]
  },
  {
   "cell_type": "code",
   "execution_count": 4,
   "metadata": {},
   "outputs": [],
   "source": [
    "multilayer_input_size = 784\n",
    "multilayer_hidden_size = 128\n",
    "multilayer_code_size = 64"
   ]
  },
  {
   "cell_type": "markdown",
   "metadata": {},
   "source": [
    "The autoencoder"
   ]
  },
  {
   "cell_type": "code",
   "execution_count": 5,
   "metadata": {},
   "outputs": [],
   "source": [
    "multilayer_autoencoder = Sequential([\n",
    "        Input(shape=(multilayer_input_size)),\n",
    "        # Encoder\n",
    "        Dense(multilayer_hidden_size, activation=relu),\n",
    "        Dense(multilayer_code_size, activation='relu'),\n",
    "        # Decoder\n",
    "        Dense(multilayer_hidden_size, activation='relu'),\n",
    "        Dense(multilayer_input_size, activation=sigmoid) \n",
    "    ])"
   ]
  },
  {
   "cell_type": "markdown",
   "metadata": {},
   "source": [
    "Configure our model to use a per-pixel binary crossentropy loss"
   ]
  },
  {
   "cell_type": "code",
   "execution_count": 6,
   "metadata": {},
   "outputs": [],
   "source": [
    "multilayer_autoencoder.compile(optimizer=Adam(), loss=MeanSquaredError())"
   ]
  },
  {
   "cell_type": "markdown",
   "metadata": {},
   "source": [
    "Prepare our input data. We're using MNIST digits and we're discarding the labels"
   ]
  },
  {
   "cell_type": "code",
   "execution_count": 7,
   "metadata": {},
   "outputs": [],
   "source": [
    "(x_train, _), (x_test, _) = mnist.load_data()"
   ]
  },
  {
   "cell_type": "markdown",
   "metadata": {},
   "source": [
    "Normalize all values between 0 and 1 and we will flatten the 28x28 imagesinto vectors of size 784"
   ]
  },
  {
   "cell_type": "code",
   "execution_count": 8,
   "metadata": {},
   "outputs": [],
   "source": [
    "x_train = x_train.astype('float32') / 255.\n",
    "x_test = x_test.astype('float32') / 255."
   ]
  },
  {
   "cell_type": "code",
   "execution_count": 9,
   "metadata": {},
   "outputs": [],
   "source": [
    "x_train = x_train.reshape((len(x_train), np.prod(x_train.shape[1:])))\n",
    "x_test = x_test.reshape((len(x_test), np.prod(x_test.shape[1:])))"
   ]
  },
  {
   "cell_type": "code",
   "execution_count": 10,
   "metadata": {},
   "outputs": [
    {
     "name": "stdout",
     "output_type": "stream",
     "text": [
      "(60000, 784)\n"
     ]
    }
   ],
   "source": [
    "print(x_train.shape)"
   ]
  },
  {
   "cell_type": "code",
   "execution_count": 11,
   "metadata": {},
   "outputs": [
    {
     "name": "stdout",
     "output_type": "stream",
     "text": [
      "(10000, 784)\n"
     ]
    }
   ],
   "source": [
    "print(x_test.shape)"
   ]
  },
  {
   "cell_type": "markdown",
   "metadata": {},
   "source": [
    "Train autoencoder for 50 epochs"
   ]
  },
  {
   "cell_type": "code",
   "execution_count": 12,
   "metadata": {},
   "outputs": [
    {
     "name": "stdout",
     "output_type": "stream",
     "text": [
      "Train on 60000 samples, validate on 10000 samples\n",
      "Epoch 1/50\n",
      "60000/60000 [==============================] - 2s 27us/sample - loss: 0.0563 - val_loss: 0.0298\n",
      "Epoch 2/50\n",
      "60000/60000 [==============================] - 1s 19us/sample - loss: 0.0234 - val_loss: 0.0187\n",
      "Epoch 3/50\n",
      "60000/60000 [==============================] - 1s 19us/sample - loss: 0.0169 - val_loss: 0.0144\n",
      "Epoch 4/50\n",
      "60000/60000 [==============================] - 1s 19us/sample - loss: 0.0137 - val_loss: 0.0123\n",
      "Epoch 5/50\n",
      "60000/60000 [==============================] - 1s 20us/sample - loss: 0.0117 - val_loss: 0.0106\n",
      "Epoch 6/50\n",
      "60000/60000 [==============================] - 1s 19us/sample - loss: 0.0105 - val_loss: 0.0096\n",
      "Epoch 7/50\n",
      "60000/60000 [==============================] - 1s 24us/sample - loss: 0.0095 - val_loss: 0.0088\n",
      "Epoch 8/50\n",
      "60000/60000 [==============================] - 1s 20us/sample - loss: 0.0088 - val_loss: 0.0082\n",
      "Epoch 9/50\n",
      "60000/60000 [==============================] - 1s 19us/sample - loss: 0.0082 - val_loss: 0.0077\n",
      "Epoch 10/50\n",
      "60000/60000 [==============================] - 1s 18us/sample - loss: 0.0078 - val_loss: 0.0073\n",
      "Epoch 11/50\n",
      "60000/60000 [==============================] - 1s 20us/sample - loss: 0.0074 - val_loss: 0.0070\n",
      "Epoch 12/50\n",
      "60000/60000 [==============================] - 1s 19us/sample - loss: 0.0071 - val_loss: 0.0068\n",
      "Epoch 13/50\n",
      "60000/60000 [==============================] - 1s 20us/sample - loss: 0.0068 - val_loss: 0.0066\n",
      "Epoch 14/50\n",
      "60000/60000 [==============================] - 1s 20us/sample - loss: 0.0066 - val_loss: 0.0062\n",
      "Epoch 15/50\n",
      "60000/60000 [==============================] - 1s 21us/sample - loss: 0.0064 - val_loss: 0.0061\n",
      "Epoch 16/50\n",
      "60000/60000 [==============================] - 1s 19us/sample - loss: 0.0062 - val_loss: 0.0060\n",
      "Epoch 17/50\n",
      "60000/60000 [==============================] - 1s 20us/sample - loss: 0.0060 - val_loss: 0.0058\n",
      "Epoch 18/50\n",
      "60000/60000 [==============================] - 1s 20us/sample - loss: 0.0058 - val_loss: 0.0056\n",
      "Epoch 19/50\n",
      "60000/60000 [==============================] - 1s 18us/sample - loss: 0.0057 - val_loss: 0.0055\n",
      "Epoch 20/50\n",
      "60000/60000 [==============================] - 1s 19us/sample - loss: 0.0056 - val_loss: 0.0054\n",
      "Epoch 21/50\n",
      "60000/60000 [==============================] - 1s 19us/sample - loss: 0.0054 - val_loss: 0.0052\n",
      "Epoch 22/50\n",
      "60000/60000 [==============================] - 1s 18us/sample - loss: 0.0053 - val_loss: 0.0053\n",
      "Epoch 23/50\n",
      "60000/60000 [==============================] - 1s 19us/sample - loss: 0.0053 - val_loss: 0.0051\n",
      "Epoch 24/50\n",
      "60000/60000 [==============================] - 1s 18us/sample - loss: 0.0051 - val_loss: 0.0049\n",
      "Epoch 25/50\n",
      "60000/60000 [==============================] - 1s 18us/sample - loss: 0.0050 - val_loss: 0.0049\n",
      "Epoch 26/50\n",
      "60000/60000 [==============================] - 1s 17us/sample - loss: 0.0050 - val_loss: 0.0049\n",
      "Epoch 27/50\n",
      "60000/60000 [==============================] - 1s 17us/sample - loss: 0.0049 - val_loss: 0.0047\n",
      "Epoch 28/50\n",
      "60000/60000 [==============================] - 1s 19us/sample - loss: 0.0048 - val_loss: 0.0047\n",
      "Epoch 29/50\n",
      "60000/60000 [==============================] - 1s 18us/sample - loss: 0.0048 - val_loss: 0.0047\n",
      "Epoch 30/50\n",
      "60000/60000 [==============================] - 1s 18us/sample - loss: 0.0047 - val_loss: 0.0046\n",
      "Epoch 31/50\n",
      "60000/60000 [==============================] - 1s 18us/sample - loss: 0.0047 - val_loss: 0.0046\n",
      "Epoch 32/50\n",
      "60000/60000 [==============================] - 1s 19us/sample - loss: 0.0047 - val_loss: 0.0045\n",
      "Epoch 33/50\n",
      "60000/60000 [==============================] - 1s 18us/sample - loss: 0.0046 - val_loss: 0.0045\n",
      "Epoch 34/50\n",
      "60000/60000 [==============================] - 1s 18us/sample - loss: 0.0046 - val_loss: 0.0045\n",
      "Epoch 35/50\n",
      "60000/60000 [==============================] - 1s 18us/sample - loss: 0.0045 - val_loss: 0.0044\n",
      "Epoch 36/50\n",
      "60000/60000 [==============================] - 1s 18us/sample - loss: 0.0045 - val_loss: 0.0044\n",
      "Epoch 37/50\n",
      "60000/60000 [==============================] - 1s 18us/sample - loss: 0.0044 - val_loss: 0.0044\n",
      "Epoch 38/50\n",
      "60000/60000 [==============================] - 1s 19us/sample - loss: 0.0044 - val_loss: 0.0043\n",
      "Epoch 39/50\n",
      "60000/60000 [==============================] - 1s 18us/sample - loss: 0.0043 - val_loss: 0.0043\n",
      "Epoch 40/50\n",
      "60000/60000 [==============================] - 1s 18us/sample - loss: 0.0043 - val_loss: 0.0043\n",
      "Epoch 41/50\n",
      "60000/60000 [==============================] - 1s 18us/sample - loss: 0.0043 - val_loss: 0.0042\n",
      "Epoch 42/50\n",
      "60000/60000 [==============================] - 1s 18us/sample - loss: 0.0043 - val_loss: 0.0042\n",
      "Epoch 43/50\n",
      "60000/60000 [==============================] - 1s 18us/sample - loss: 0.0042 - val_loss: 0.0042\n",
      "Epoch 44/50\n",
      "60000/60000 [==============================] - 1s 18us/sample - loss: 0.0042 - val_loss: 0.0042\n",
      "Epoch 45/50\n",
      "60000/60000 [==============================] - 1s 18us/sample - loss: 0.0042 - val_loss: 0.0042\n",
      "Epoch 46/50\n",
      "60000/60000 [==============================] - 1s 18us/sample - loss: 0.0042 - val_loss: 0.0041\n",
      "Epoch 47/50\n",
      "60000/60000 [==============================] - 1s 18us/sample - loss: 0.0041 - val_loss: 0.0041\n",
      "Epoch 48/50\n",
      "60000/60000 [==============================] - 1s 18us/sample - loss: 0.0041 - val_loss: 0.0040\n",
      "Epoch 49/50\n",
      "60000/60000 [==============================] - 1s 19us/sample - loss: 0.0041 - val_loss: 0.0040\n",
      "Epoch 50/50\n",
      "60000/60000 [==============================] - 1s 19us/sample - loss: 0.0041 - val_loss: 0.0040\n"
     ]
    },
    {
     "data": {
      "text/plain": [
       "<tensorflow.python.keras.callbacks.History at 0x7fc4a038c630>"
      ]
     },
     "execution_count": 12,
     "metadata": {},
     "output_type": "execute_result"
    }
   ],
   "source": [
    "multilayer_autoencoder.fit(x_train, x_train,\n",
    "               epochs=50,\n",
    "               batch_size=256,\n",
    "               shuffle=True,\n",
    "               validation_data=(x_test,x_test))"
   ]
  },
  {
   "cell_type": "markdown",
   "metadata": {},
   "source": [
    "Encode and decode some digits.\n",
    "\n",
    "Note that we take them from the *test* set"
   ]
  },
  {
   "cell_type": "code",
   "execution_count": 13,
   "metadata": {},
   "outputs": [],
   "source": [
    "decoded_imgs = multilayer_autoencoder.predict(x_test)"
   ]
  },
  {
   "cell_type": "markdown",
   "metadata": {},
   "source": [
    "Visualize the reconstructed inputs and the encoded representation."
   ]
  },
  {
   "cell_type": "code",
   "execution_count": 14,
   "metadata": {},
   "outputs": [],
   "source": [
    "n = 20 # how many digits we will display"
   ]
  },
  {
   "cell_type": "code",
   "execution_count": 15,
   "metadata": {},
   "outputs": [
    {
     "data": {
      "image/png": "[encoded data removed]",
      "text/plain": [
       "<Figure size 1440x288 with 40 Axes>"
      ]
     },
     "metadata": {
      "needs_background": "light"
     },
     "output_type": "display_data"
    }
   ],
   "source": [
    "plt.figure(figsize=(20, 4))\n",
    "for i in range(n):\n",
    "    # display original\n",
    "    ax = plt.subplot(2, n, i + 1)\n",
    "    plt.imshow(x_test[i].reshape(28, 28))\n",
    "    plt.gray()\n",
    "    ax.get_xaxis().set_visible(False)\n",
    "    ax.get_yaxis().set_visible(False)\n",
    "    \n",
    "    # display reconstruction\n",
    "    ax = plt.subplot(2, n, i + 1 + n)\n",
    "    plt.imshow(decoded_imgs[i].reshape(28, 28))\n",
    "    plt.gray()\n",
    "    ax.get_xaxis().set_visible(False)\n",
    "    ax.get_yaxis().set_visible(False)\n",
    "plt.show()"
   ]
  },
  {
   "cell_type": "code",
   "execution_count": null,
   "metadata": {},
   "outputs": [],
   "source": []
  }
 ],
 "metadata": {
  "kernelspec": {
   "display_name": "Python 3",
   "language": "python",
   "name": "python3"
  },
  "language_info": {
   "codemirror_mode": {
    "name": "ipython",
    "version": 3
   },
   "file_extension": ".py",
   "mimetype": "text/x-python",
   "name": "python",
   "nbconvert_exporter": "python",
   "pygments_lexer": "ipython3",
   "version": "3.6.9"
  }
 },
 "nbformat": 4,
 "nbformat_minor": 2
}
