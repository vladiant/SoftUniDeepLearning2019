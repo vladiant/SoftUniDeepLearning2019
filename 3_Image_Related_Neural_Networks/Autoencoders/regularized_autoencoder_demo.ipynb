{
 "cells": [
  {
   "cell_type": "markdown",
   "metadata": {},
   "source": [
    "Edureka:\n",
    "\n",
    "https://www.edureka.co/ai-deep-learning-with-tensorflow\n",
    "\n",
    "Deep inside Autoencoders: https://towardsdatascience.com/deep-inside-autoencoders-7e41f319999f"
   ]
  },
  {
   "cell_type": "code",
   "execution_count": 1,
   "metadata": {},
   "outputs": [],
   "source": [
    "import numpy as np"
   ]
  },
  {
   "cell_type": "code",
   "execution_count": 2,
   "metadata": {},
   "outputs": [],
   "source": [
    "from tensorflow.keras.layers import Input, Dense\n",
    "from tensorflow.keras.models import Sequential\n",
    "from tensorflow.keras.activations import relu, sigmoid\n",
    "from tensorflow.keras.regularizers import l1\n",
    "from tensorflow.keras.optimizers import Adam\n",
    "from tensorflow.keras.losses import MeanSquaredError\n",
    "\n",
    "from tensorflow.keras.datasets import mnist"
   ]
  },
  {
   "cell_type": "code",
   "execution_count": 3,
   "metadata": {},
   "outputs": [],
   "source": [
    "import matplotlib.pyplot as plt"
   ]
  },
  {
   "cell_type": "markdown",
   "metadata": {},
   "source": [
    "Autoencoder sizes"
   ]
  },
  {
   "cell_type": "code",
   "execution_count": 4,
   "metadata": {},
   "outputs": [],
   "source": [
    "sparse_input_size = 784\n",
    "sparse_hidden_size = 64\n",
    "sparse_output_size = 784"
   ]
  },
  {
   "cell_type": "markdown",
   "metadata": {},
   "source": [
    "autoencoder"
   ]
  },
  {
   "cell_type": "code",
   "execution_count": 5,
   "metadata": {},
   "outputs": [],
   "source": [
    "sparse_autoencoder = Sequential([\n",
    "        Input(shape=(sparse_input_size)),\n",
    "        Dense(sparse_hidden_size, activation=relu, activity_regularizer=l1(10e-5)), # Encoder\n",
    "        Dense(sparse_output_size, activation=sigmoid) # Decoder\n",
    "    ])"
   ]
  },
  {
   "cell_type": "markdown",
   "metadata": {},
   "source": [
    "Configure our model to use a per-pixel binary crossentropy loss"
   ]
  },
  {
   "cell_type": "code",
   "execution_count": 6,
   "metadata": {},
   "outputs": [],
   "source": [
    "sparse_autoencoder.compile(optimizer=Adam(), loss=MeanSquaredError())"
   ]
  },
  {
   "cell_type": "markdown",
   "metadata": {},
   "source": [
    "Prepare our input data. We're using MNIST digits and we're discarding the labels"
   ]
  },
  {
   "cell_type": "code",
   "execution_count": 7,
   "metadata": {},
   "outputs": [],
   "source": [
    "(x_train, _), (x_test, _) = mnist.load_data()"
   ]
  },
  {
   "cell_type": "markdown",
   "metadata": {},
   "source": [
    "Normalize all values between 0 and 1 and we will flatten the 28x28 imagesinto vectors of size 784"
   ]
  },
  {
   "cell_type": "code",
   "execution_count": 8,
   "metadata": {},
   "outputs": [],
   "source": [
    "x_train = x_train.astype('float32') / 255.\n",
    "x_test = x_test.astype('float32') / 255."
   ]
  },
  {
   "cell_type": "code",
   "execution_count": 9,
   "metadata": {},
   "outputs": [],
   "source": [
    "x_train = x_train.reshape((len(x_train), np.prod(x_train.shape[1:])))\n",
    "x_test = x_test.reshape((len(x_test), np.prod(x_test.shape[1:])))"
   ]
  },
  {
   "cell_type": "code",
   "execution_count": 10,
   "metadata": {},
   "outputs": [
    {
     "name": "stdout",
     "output_type": "stream",
     "text": [
      "(60000, 784)\n"
     ]
    }
   ],
   "source": [
    "print(x_train.shape)"
   ]
  },
  {
   "cell_type": "code",
   "execution_count": 11,
   "metadata": {},
   "outputs": [
    {
     "name": "stdout",
     "output_type": "stream",
     "text": [
      "(10000, 784)\n"
     ]
    }
   ],
   "source": [
    "print(x_test.shape)"
   ]
  },
  {
   "cell_type": "markdown",
   "metadata": {},
   "source": [
    "Train autoencoder for 50 epochs"
   ]
  },
  {
   "cell_type": "code",
   "execution_count": 12,
   "metadata": {},
   "outputs": [
    {
     "name": "stdout",
     "output_type": "stream",
     "text": [
      "Train on 60000 samples, validate on 10000 samples\n",
      "Epoch 1/50\n",
      "60000/60000 [==============================] - 3s 57us/sample - loss: 0.0697 - val_loss: 0.0391\n",
      "Epoch 2/50\n",
      "60000/60000 [==============================] - 3s 48us/sample - loss: 0.0328 - val_loss: 0.0277\n",
      "Epoch 3/50\n",
      "60000/60000 [==============================] - 3s 44us/sample - loss: 0.0254 - val_loss: 0.0228\n",
      "Epoch 4/50\n",
      "60000/60000 [==============================] - 3s 42us/sample - loss: 0.0215 - val_loss: 0.0197\n",
      "Epoch 5/50\n",
      "60000/60000 [==============================] - 3s 42us/sample - loss: 0.0189 - val_loss: 0.0176\n",
      "Epoch 6/50\n",
      "60000/60000 [==============================] - 2s 33us/sample - loss: 0.0171 - val_loss: 0.0161\n",
      "Epoch 7/50\n",
      "60000/60000 [==============================] - 2s 39us/sample - loss: 0.0158 - val_loss: 0.0150\n",
      "Epoch 8/50\n",
      "60000/60000 [==============================] - 3s 44us/sample - loss: 0.0148 - val_loss: 0.0141\n",
      "Epoch 9/50\n",
      "60000/60000 [==============================] - 3s 43us/sample - loss: 0.0140 - val_loss: 0.0135\n",
      "Epoch 10/50\n",
      "60000/60000 [==============================] - 3s 47us/sample - loss: 0.0134 - val_loss: 0.0129\n",
      "Epoch 11/50\n",
      "60000/60000 [==============================] - 3s 49us/sample - loss: 0.0129 - val_loss: 0.0125\n",
      "Epoch 12/50\n",
      "60000/60000 [==============================] - 3s 44us/sample - loss: 0.0124 - val_loss: 0.0121\n",
      "Epoch 13/50\n",
      "60000/60000 [==============================] - 3s 47us/sample - loss: 0.0120 - val_loss: 0.0117\n",
      "Epoch 14/50\n",
      "60000/60000 [==============================] - 3s 46us/sample - loss: 0.0117 - val_loss: 0.0114\n",
      "Epoch 15/50\n",
      "60000/60000 [==============================] - 3s 47us/sample - loss: 0.0114 - val_loss: 0.0111\n",
      "Epoch 16/50\n",
      "60000/60000 [==============================] - 3s 46us/sample - loss: 0.0111 - val_loss: 0.0108\n",
      "Epoch 17/50\n",
      "60000/60000 [==============================] - 3s 45us/sample - loss: 0.0108 - val_loss: 0.0106\n",
      "Epoch 18/50\n",
      "60000/60000 [==============================] - 3s 46us/sample - loss: 0.0106 - val_loss: 0.0104\n",
      "Epoch 19/50\n",
      "60000/60000 [==============================] - 3s 50us/sample - loss: 0.0104 - val_loss: 0.0101\n",
      "Epoch 20/50\n",
      "60000/60000 [==============================] - 3s 42us/sample - loss: 0.0102 - val_loss: 0.0100\n",
      "Epoch 21/50\n",
      "60000/60000 [==============================] - 3s 43us/sample - loss: 0.0100 - val_loss: 0.0098\n",
      "Epoch 22/50\n",
      "60000/60000 [==============================] - 3s 42us/sample - loss: 0.0098 - val_loss: 0.0096\n",
      "Epoch 23/50\n",
      "60000/60000 [==============================] - 2s 41us/sample - loss: 0.0097 - val_loss: 0.0095\n",
      "Epoch 24/50\n",
      "60000/60000 [==============================] - 3s 44us/sample - loss: 0.0095 - val_loss: 0.0093\n",
      "Epoch 25/50\n",
      "60000/60000 [==============================] - 3s 43us/sample - loss: 0.0093 - val_loss: 0.0092\n",
      "Epoch 26/50\n",
      "60000/60000 [==============================] - 3s 44us/sample - loss: 0.0092 - val_loss: 0.0090\n",
      "Epoch 27/50\n",
      "60000/60000 [==============================] - 3s 43us/sample - loss: 0.0090 - val_loss: 0.0089\n",
      "Epoch 28/50\n",
      "60000/60000 [==============================] - 3s 43us/sample - loss: 0.0089 - val_loss: 0.0088\n",
      "Epoch 29/50\n",
      "60000/60000 [==============================] - 3s 42us/sample - loss: 0.0088 - val_loss: 0.0087\n",
      "Epoch 30/50\n",
      "60000/60000 [==============================] - 3s 42us/sample - loss: 0.0087 - val_loss: 0.0086\n",
      "Epoch 31/50\n",
      "60000/60000 [==============================] - 3s 44us/sample - loss: 0.0086 - val_loss: 0.0085\n",
      "Epoch 32/50\n",
      "60000/60000 [==============================] - 2s 32us/sample - loss: 0.0085 - val_loss: 0.0084\n",
      "Epoch 33/50\n",
      "60000/60000 [==============================] - 2s 34us/sample - loss: 0.0084 - val_loss: 0.0083\n",
      "Epoch 34/50\n",
      "60000/60000 [==============================] - 2s 41us/sample - loss: 0.0083 - val_loss: 0.0082\n",
      "Epoch 35/50\n",
      "60000/60000 [==============================] - 3s 42us/sample - loss: 0.0082 - val_loss: 0.0081\n",
      "Epoch 36/50\n",
      "60000/60000 [==============================] - 3s 42us/sample - loss: 0.0082 - val_loss: 0.0080\n",
      "Epoch 37/50\n",
      "60000/60000 [==============================] - 3s 43us/sample - loss: 0.0081 - val_loss: 0.0080\n",
      "Epoch 38/50\n",
      "60000/60000 [==============================] - 3s 46us/sample - loss: 0.0080 - val_loss: 0.0079\n",
      "Epoch 39/50\n",
      "60000/60000 [==============================] - 3s 44us/sample - loss: 0.0079 - val_loss: 0.0078\n",
      "Epoch 40/50\n",
      "60000/60000 [==============================] - 3s 51us/sample - loss: 0.0079 - val_loss: 0.0078\n",
      "Epoch 41/50\n",
      "60000/60000 [==============================] - 3s 46us/sample - loss: 0.0078 - val_loss: 0.0078\n",
      "Epoch 42/50\n",
      "60000/60000 [==============================] - 3s 46us/sample - loss: 0.0077 - val_loss: 0.0077\n",
      "Epoch 43/50\n",
      "60000/60000 [==============================] - 3s 46us/sample - loss: 0.0077 - val_loss: 0.0076\n",
      "Epoch 44/50\n",
      "60000/60000 [==============================] - 3s 43us/sample - loss: 0.0076 - val_loss: 0.0076\n",
      "Epoch 45/50\n",
      "60000/60000 [==============================] - 3s 44us/sample - loss: 0.0076 - val_loss: 0.0075\n",
      "Epoch 46/50\n",
      "60000/60000 [==============================] - 3s 45us/sample - loss: 0.0075 - val_loss: 0.0075\n",
      "Epoch 47/50\n",
      "60000/60000 [==============================] - 3s 45us/sample - loss: 0.0075 - val_loss: 0.0074\n",
      "Epoch 48/50\n",
      "60000/60000 [==============================] - 3s 47us/sample - loss: 0.0074 - val_loss: 0.0074\n",
      "Epoch 49/50\n",
      "60000/60000 [==============================] - 3s 45us/sample - loss: 0.0074 - val_loss: 0.0073\n",
      "Epoch 50/50\n",
      "60000/60000 [==============================] - 3s 46us/sample - loss: 0.0074 - val_loss: 0.0073\n"
     ]
    },
    {
     "data": {
      "text/plain": [
       "<tensorflow.python.keras.callbacks.History at 0x7f1b982f60f0>"
      ]
     },
     "execution_count": 12,
     "metadata": {},
     "output_type": "execute_result"
    }
   ],
   "source": [
    "sparse_autoencoder.fit(x_train, x_train,\n",
    "               epochs=50,\n",
    "               batch_size=256,\n",
    "               shuffle=True,\n",
    "               validation_data=(x_test,x_test))"
   ]
  },
  {
   "cell_type": "markdown",
   "metadata": {},
   "source": [
    "Encode and decode some digits.\n",
    "\n",
    "Note that we take them from the *test* set"
   ]
  },
  {
   "cell_type": "code",
   "execution_count": 13,
   "metadata": {},
   "outputs": [],
   "source": [
    "decoded_imgs = sparse_autoencoder.predict(x_test)"
   ]
  },
  {
   "cell_type": "markdown",
   "metadata": {},
   "source": [
    "Visualize the reconstructed inputs and the encoded representation."
   ]
  },
  {
   "cell_type": "code",
   "execution_count": 14,
   "metadata": {},
   "outputs": [],
   "source": [
    "n = 20 # how many digits we will display"
   ]
  },
  {
   "cell_type": "code",
   "execution_count": 15,
   "metadata": {},
   "outputs": [
    {
     "data": {
      "image/png": "[encoded data removed]",
      "text/plain": [
       "<Figure size 1440x288 with 40 Axes>"
      ]
     },
     "metadata": {
      "needs_background": "light"
     },
     "output_type": "display_data"
    }
   ],
   "source": [
    "plt.figure(figsize=(20, 4))\n",
    "for i in range(n):\n",
    "    # display original\n",
    "    ax = plt.subplot(2, n, i + 1)\n",
    "    plt.imshow(x_test[i].reshape(28, 28))\n",
    "    plt.gray()\n",
    "    ax.get_xaxis().set_visible(False)\n",
    "    ax.get_yaxis().set_visible(False)\n",
    "    \n",
    "    # display reconstruction\n",
    "    ax = plt.subplot(2, n, i + 1 + n)\n",
    "    plt.imshow(decoded_imgs[i].reshape(28, 28))\n",
    "    plt.gray()\n",
    "    ax.get_xaxis().set_visible(False)\n",
    "    ax.get_yaxis().set_visible(False)\n",
    "plt.show()"
   ]
  },
  {
   "cell_type": "code",
   "execution_count": null,
   "metadata": {},
   "outputs": [],
   "source": []
  }
 ],
 "metadata": {
  "kernelspec": {
   "display_name": "Python 3",
   "language": "python",
   "name": "python3"
  },
  "language_info": {
   "codemirror_mode": {
    "name": "ipython",
    "version": 3
   },
   "file_extension": ".py",
   "mimetype": "text/x-python",
   "name": "python",
   "nbconvert_exporter": "python",
   "pygments_lexer": "ipython3",
   "version": "3.6.9"
  }
 },
 "nbformat": 4,
 "nbformat_minor": 2
}
