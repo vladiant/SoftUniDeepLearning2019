{
 "cells": [
  {
   "cell_type": "code",
   "execution_count": 1,
   "metadata": {},
   "outputs": [],
   "source": [
    "%matplotlib inline"
   ]
  },
  {
   "cell_type": "code",
   "execution_count": 2,
   "metadata": {},
   "outputs": [],
   "source": [
    "import numpy as np\n",
    "import pandas as pd\n",
    "import matplotlib.pyplot as plt\n",
    "\n",
    "import tensorflow as tf\n",
    "\n",
    "from tensorflow.keras.datasets import mnist\n",
    "\n",
    "from tensorflow.keras.models import Sequential\n",
    "from tensorflow.keras.layers import Input, Flatten, Dense, Dropout, BatchNormalization\n",
    "\n",
    "from tensorflow.keras.metrics import categorical_accuracy, CategoricalAccuracy\n",
    "\n",
    "from tensorflow.keras.optimizers import Adam\n",
    "from tensorflow.keras.losses import SparseCategoricalCrossentropy\n",
    "from tensorflow.keras.metrics import SparseCategoricalAccuracy \n",
    "\n",
    "from tensorflow.keras.callbacks import TensorBoard"
   ]
  },
  {
   "cell_type": "markdown",
   "metadata": {},
   "source": [
    "# Monitoring and Improving Neural Networks\n",
    "## Live Demos"
   ]
  },
  {
   "cell_type": "code",
   "execution_count": 3,
   "metadata": {},
   "outputs": [],
   "source": [
    "(train_images, train_labels), (test_images, test_labels)= mnist.load_data()"
   ]
  },
  {
   "cell_type": "code",
   "execution_count": 4,
   "metadata": {},
   "outputs": [
    {
     "data": {
      "image/png": "[encoded data removed]",
      "text/plain": [
       "<Figure size 432x288 with 1 Axes>"
      ]
     },
     "metadata": {
      "needs_background": "light"
     },
     "output_type": "display_data"
    }
   ],
   "source": [
    "plt.imshow(train_images[0], cmap='gray')\n",
    "plt.title(train_labels[0])\n",
    "plt.show()"
   ]
  },
  {
   "cell_type": "code",
   "execution_count": 5,
   "metadata": {},
   "outputs": [],
   "source": [
    "# Important step - otherwise there will be model exploding!\n",
    "\n",
    "# train_images = train_images / 255.0\n",
    "# test_images = test_images / 255.0\n",
    "\n",
    "# Float16 - to get more data in GPU memory\n",
    "train_images = (train_images / 255.0).astype(np.float16)\n",
    "test_images = (test_images / 255.0).astype(np.float16)"
   ]
  },
  {
   "cell_type": "code",
   "execution_count": 6,
   "metadata": {},
   "outputs": [
    {
     "data": {
      "text/plain": [
       "dtype('float16')"
      ]
     },
     "execution_count": 6,
     "metadata": {},
     "output_type": "execute_result"
    }
   ],
   "source": [
    "test_images.dtype"
   ]
  },
  {
   "cell_type": "code",
   "execution_count": 7,
   "metadata": {},
   "outputs": [],
   "source": [
    "DROPOUT_RATE = 0.1"
   ]
  },
  {
   "cell_type": "code",
   "execution_count": 8,
   "metadata": {},
   "outputs": [],
   "source": [
    "model = Sequential([\n",
    "    Input(shape=train_images[0].shape), # Images with the same shape\n",
    "    Flatten(),\n",
    "    Dense(units=20, activation=tf.keras.activations.relu),\n",
    "    Dropout(DROPOUT_RATE),\n",
    "    Dense(units=50, activation=tf.keras.activations.relu),\n",
    "    Dropout(DROPOUT_RATE),\n",
    "    Dense(units=30, activation=tf.keras.activations.relu),\n",
    "    Dropout(DROPOUT_RATE),\n",
    "    Dense(units=10, activation=tf.keras.activations.softmax)\n",
    "])"
   ]
  },
  {
   "cell_type": "code",
   "execution_count": 9,
   "metadata": {},
   "outputs": [
    {
     "name": "stdout",
     "output_type": "stream",
     "text": [
      "Model: \"sequential\"\n",
      "_________________________________________________________________\n",
      "Layer (type)                 Output Shape              Param #   \n",
      "=================================================================\n",
      "flatten (Flatten)            (None, 784)               0         \n",
      "_________________________________________________________________\n",
      "dense (Dense)                (None, 20)                15700     \n",
      "_________________________________________________________________\n",
      "dropout (Dropout)            (None, 20)                0         \n",
      "_________________________________________________________________\n",
      "dense_1 (Dense)              (None, 50)                1050      \n",
      "_________________________________________________________________\n",
      "dropout_1 (Dropout)          (None, 50)                0         \n",
      "_________________________________________________________________\n",
      "dense_2 (Dense)              (None, 30)                1530      \n",
      "_________________________________________________________________\n",
      "dropout_2 (Dropout)          (None, 30)                0         \n",
      "_________________________________________________________________\n",
      "dense_3 (Dense)              (None, 10)                310       \n",
      "=================================================================\n",
      "Total params: 18,590\n",
      "Trainable params: 18,590\n",
      "Non-trainable params: 0\n",
      "_________________________________________________________________\n"
     ]
    }
   ],
   "source": [
    "model.summary()"
   ]
  },
  {
   "cell_type": "code",
   "execution_count": 10,
   "metadata": {},
   "outputs": [],
   "source": [
    "model.compile(\n",
    "    optimizer = Adam(learning_rate=0.001),\n",
    "    loss = SparseCategoricalCrossentropy(),\n",
    "    metrics = [SparseCategoricalAccuracy()]\n",
    ")"
   ]
  },
  {
   "cell_type": "code",
   "execution_count": 11,
   "metadata": {},
   "outputs": [
    {
     "name": "stdout",
     "output_type": "stream",
     "text": [
      "Train on 54000 samples, validate on 6000 samples\n",
      "Epoch 1/20\n",
      "54000/54000 [==============================] - 7s 132us/sample - loss: 0.5128 - sparse_categorical_accuracy: 0.8404 - val_loss: 0.1771 - val_sparse_categorical_accuracy: 0.9460\n",
      "Epoch 2/20\n",
      "54000/54000 [==============================] - 6s 118us/sample - loss: 0.3174 - sparse_categorical_accuracy: 0.9063 - val_loss: 0.1597 - val_sparse_categorical_accuracy: 0.9492\n",
      "Epoch 3/20\n",
      "54000/54000 [==============================] - 7s 121us/sample - loss: 0.2836 - sparse_categorical_accuracy: 0.9159 - val_loss: 0.1443 - val_sparse_categorical_accuracy: 0.9573\n",
      "Epoch 4/20\n",
      "54000/54000 [==============================] - 7s 133us/sample - loss: 0.2627 - sparse_categorical_accuracy: 0.9216 - val_loss: 0.1435 - val_sparse_categorical_accuracy: 0.9577\n",
      "Epoch 5/20\n",
      "54000/54000 [==============================] - 6s 116us/sample - loss: 0.2530 - sparse_categorical_accuracy: 0.9253 - val_loss: 0.1404 - val_sparse_categorical_accuracy: 0.9597\n",
      "Epoch 6/20\n",
      "54000/54000 [==============================] - 7s 121us/sample - loss: 0.2407 - sparse_categorical_accuracy: 0.9285 - val_loss: 0.1367 - val_sparse_categorical_accuracy: 0.9612\n",
      "Epoch 7/20\n",
      "54000/54000 [==============================] - 7s 134us/sample - loss: 0.2332 - sparse_categorical_accuracy: 0.9301 - val_loss: 0.1455 - val_sparse_categorical_accuracy: 0.9575\n",
      "Epoch 8/20\n",
      "54000/54000 [==============================] - 6s 117us/sample - loss: 0.2310 - sparse_categorical_accuracy: 0.9310 - val_loss: 0.1290 - val_sparse_categorical_accuracy: 0.9615\n",
      "Epoch 9/20\n",
      "54000/54000 [==============================] - 6s 117us/sample - loss: 0.2239 - sparse_categorical_accuracy: 0.9330 - val_loss: 0.1275 - val_sparse_categorical_accuracy: 0.9613\n",
      "Epoch 10/20\n",
      "54000/54000 [==============================] - 6s 119us/sample - loss: 0.2180 - sparse_categorical_accuracy: 0.9347 - val_loss: 0.1452 - val_sparse_categorical_accuracy: 0.9597\n",
      "Epoch 11/20\n",
      "54000/54000 [==============================] - 6s 120us/sample - loss: 0.2136 - sparse_categorical_accuracy: 0.9364 - val_loss: 0.1283 - val_sparse_categorical_accuracy: 0.9645\n",
      "Epoch 12/20\n",
      "54000/54000 [==============================] - 9s 159us/sample - loss: 0.2117 - sparse_categorical_accuracy: 0.9364 - val_loss: 0.1302 - val_sparse_categorical_accuracy: 0.9623\n",
      "Epoch 13/20\n",
      "54000/54000 [==============================] - 7s 134us/sample - loss: 0.2068 - sparse_categorical_accuracy: 0.9382 - val_loss: 0.1320 - val_sparse_categorical_accuracy: 0.9642\n",
      "Epoch 14/20\n",
      "54000/54000 [==============================] - 7s 135us/sample - loss: 0.2049 - sparse_categorical_accuracy: 0.9383 - val_loss: 0.1239 - val_sparse_categorical_accuracy: 0.9657\n",
      "Epoch 15/20\n",
      "54000/54000 [==============================] - 7s 124us/sample - loss: 0.2028 - sparse_categorical_accuracy: 0.9389 - val_loss: 0.1261 - val_sparse_categorical_accuracy: 0.9643\n",
      "Epoch 16/20\n",
      "54000/54000 [==============================] - 7s 126us/sample - loss: 0.2000 - sparse_categorical_accuracy: 0.9389 - val_loss: 0.1249 - val_sparse_categorical_accuracy: 0.9645\n",
      "Epoch 17/20\n",
      "54000/54000 [==============================] - 6s 118us/sample - loss: 0.1967 - sparse_categorical_accuracy: 0.9413 - val_loss: 0.1268 - val_sparse_categorical_accuracy: 0.9670\n",
      "Epoch 18/20\n",
      "54000/54000 [==============================] - 6s 118us/sample - loss: 0.1934 - sparse_categorical_accuracy: 0.9422 - val_loss: 0.1254 - val_sparse_categorical_accuracy: 0.9652\n",
      "Epoch 19/20\n",
      "54000/54000 [==============================] - 6s 118us/sample - loss: 0.1907 - sparse_categorical_accuracy: 0.9437 - val_loss: 0.1291 - val_sparse_categorical_accuracy: 0.9628\n",
      "Epoch 20/20\n",
      "54000/54000 [==============================] - 6s 118us/sample - loss: 0.1891 - sparse_categorical_accuracy: 0.9439 - val_loss: 0.1328 - val_sparse_categorical_accuracy: 0.9650\n"
     ]
    }
   ],
   "source": [
    "history = model.fit(\n",
    "    x = train_images,\n",
    "    y = train_labels,\n",
    "    epochs = 20,\n",
    "    batch_size = 8,\n",
    "    validation_split = 0.1,\n",
    "#     initial_epoch = 0 # Where to start from remebered data\n",
    "    callbacks = [TensorBoard()]\n",
    ")\n",
    "# Use \"tensorboard --logdir logs\" to visualize"
   ]
  },
  {
   "cell_type": "code",
   "execution_count": 12,
   "metadata": {},
   "outputs": [
    {
     "data": {
      "text/plain": [
       "array([[2.53822224e-11, 2.68205707e-08, 1.21542465e-08, 2.28108410e-02,\n",
       "        2.89765239e-07, 9.76992130e-01, 6.58180566e-10, 1.17620242e-08,\n",
       "        6.76912350e-07, 1.95968794e-04],\n",
       "       [9.99977231e-01, 3.03968054e-21, 1.36513529e-06, 5.33736504e-08,\n",
       "        3.98491171e-11, 3.03019306e-06, 1.18848095e-06, 3.95486524e-08,\n",
       "        1.20188787e-07, 1.70578041e-05],\n",
       "       [1.54890836e-06, 5.02809962e-05, 6.40183687e-04, 8.10560159e-05,\n",
       "        9.92011726e-01, 9.68469481e-04, 6.83532053e-05, 7.23249628e-04,\n",
       "        1.49078158e-04, 5.30606415e-03],\n",
       "       [9.88821710e-16, 9.99993086e-01, 2.06581626e-06, 4.02898962e-07,\n",
       "        2.11621778e-08, 1.08419087e-08, 4.41097159e-12, 3.88202943e-06,\n",
       "        4.60089950e-07, 1.43299745e-08],\n",
       "       [4.04594414e-10, 7.48722151e-09, 8.77998502e-07, 6.38609490e-05,\n",
       "        1.41810146e-04, 7.77103594e-07, 4.17201560e-12, 1.90681225e-04,\n",
       "        2.89010563e-06, 9.99599159e-01],\n",
       "       [2.43473153e-07, 1.97736426e-05, 9.87254858e-01, 1.08868359e-02,\n",
       "        8.03451087e-07, 3.14552108e-06, 1.06544924e-07, 1.80398743e-03,\n",
       "        3.01876880e-05, 3.27474581e-09],\n",
       "       [6.10102651e-21, 9.99999881e-01, 3.84330328e-08, 1.21771162e-08,\n",
       "        2.54246017e-11, 4.06695684e-11, 3.64978927e-16, 8.78000890e-08,\n",
       "        2.73323697e-09, 1.52123120e-10],\n",
       "       [1.34580241e-28, 5.14425968e-09, 6.64042377e-10, 1.00000000e+00,\n",
       "        2.15168967e-17, 6.41234787e-10, 6.42562452e-31, 5.30070698e-09,\n",
       "        2.25825521e-11, 3.07727843e-09],\n",
       "       [1.58674428e-18, 9.99996781e-01, 2.19255895e-07, 1.89495907e-07,\n",
       "        1.34113975e-09, 7.04484748e-10, 3.34619963e-15, 2.84851058e-06,\n",
       "        1.17912018e-08, 1.05024451e-08],\n",
       "       [1.13729630e-10, 1.24249500e-08, 1.07799387e-05, 7.30982990e-08,\n",
       "        9.99947190e-01, 8.16584179e-06, 7.83590366e-08, 4.76890182e-06,\n",
       "        1.41754356e-07, 2.87932562e-05]], dtype=float32)"
      ]
     },
     "execution_count": 12,
     "metadata": {},
     "output_type": "execute_result"
    }
   ],
   "source": [
    "model.predict(train_images[0:10])"
   ]
  },
  {
   "cell_type": "code",
   "execution_count": 13,
   "metadata": {},
   "outputs": [
    {
     "data": {
      "text/plain": [
       "array([7, 2, 1, 0, 4, 1, 4, 9, 6, 9])"
      ]
     },
     "execution_count": 13,
     "metadata": {},
     "output_type": "execute_result"
    }
   ],
   "source": [
    "test_predicitons = model.predict_classes(test_images[:10])\n",
    "test_predicitons"
   ]
  },
  {
   "cell_type": "code",
   "execution_count": 14,
   "metadata": {},
   "outputs": [
    {
     "data": {
      "text/plain": [
       "array([7, 2, 1, 0, 4, 1, 4, 9, 5, 9], dtype=uint8)"
      ]
     },
     "execution_count": 14,
     "metadata": {},
     "output_type": "execute_result"
    }
   ],
   "source": [
    "test_labels[:10]"
   ]
  },
  {
   "cell_type": "code",
   "execution_count": 15,
   "metadata": {},
   "outputs": [
    {
     "data": {
      "text/plain": [
       "0.9"
      ]
     },
     "execution_count": 15,
     "metadata": {},
     "output_type": "execute_result"
    }
   ],
   "source": [
    "(test_predicitons == test_labels[:10]).sum()/len(test_predicitons)"
   ]
  },
  {
   "cell_type": "code",
   "execution_count": 16,
   "metadata": {},
   "outputs": [
    {
     "data": {
      "text/plain": [
       "{'loss': [0.5128360241168972,\n",
       "  0.3174039922994217,\n",
       "  0.28361434736363245,\n",
       "  0.2626590004423224,\n",
       "  0.2529879580963968,\n",
       "  0.24072180162861737,\n",
       "  0.23321913039580383,\n",
       "  0.23102821238042898,\n",
       "  0.22388747839993126,\n",
       "  0.21798040645558567,\n",
       "  0.2136080963900081,\n",
       "  0.2117332270298179,\n",
       "  0.20675886658539444,\n",
       "  0.20487876252011242,\n",
       "  0.2027684640031032,\n",
       "  0.20002540795003654,\n",
       "  0.19670964845934888,\n",
       "  0.19344366455755868,\n",
       "  0.19070311443436205,\n",
       "  0.1890994156023037],\n",
       " 'sparse_categorical_accuracy': [0.8403519,\n",
       "  0.9062778,\n",
       "  0.9159074,\n",
       "  0.92164814,\n",
       "  0.92531484,\n",
       "  0.92848146,\n",
       "  0.9300926,\n",
       "  0.931037,\n",
       "  0.9329815,\n",
       "  0.9346667,\n",
       "  0.93635184,\n",
       "  0.9364259,\n",
       "  0.9382222,\n",
       "  0.93825924,\n",
       "  0.9388704,\n",
       "  0.93894446,\n",
       "  0.9413148,\n",
       "  0.9421667,\n",
       "  0.94366664,\n",
       "  0.9439074],\n",
       " 'val_loss': [0.1771078779984576,\n",
       "  0.15969311605533584,\n",
       "  0.14428555940122653,\n",
       "  0.1434834624567496,\n",
       "  0.14035031519884553,\n",
       "  0.13673819965601433,\n",
       "  0.14553013956616634,\n",
       "  0.12897869599692058,\n",
       "  0.12746224833846403,\n",
       "  0.14522281982560525,\n",
       "  0.12833977629110935,\n",
       "  0.13016465223078072,\n",
       "  0.13196158151999893,\n",
       "  0.12387984287249856,\n",
       "  0.126111317240051,\n",
       "  0.12494390037777096,\n",
       "  0.12684997214420582,\n",
       "  0.12537370717086013,\n",
       "  0.12913927461430041,\n",
       "  0.13279093898350158],\n",
       " 'val_sparse_categorical_accuracy': [0.946,\n",
       "  0.94916666,\n",
       "  0.9573333,\n",
       "  0.9576667,\n",
       "  0.95966667,\n",
       "  0.9611667,\n",
       "  0.9575,\n",
       "  0.9615,\n",
       "  0.96133333,\n",
       "  0.95966667,\n",
       "  0.9645,\n",
       "  0.9623333,\n",
       "  0.96416664,\n",
       "  0.96566665,\n",
       "  0.96433336,\n",
       "  0.9645,\n",
       "  0.967,\n",
       "  0.9651667,\n",
       "  0.96283334,\n",
       "  0.965]}"
      ]
     },
     "execution_count": 16,
     "metadata": {},
     "output_type": "execute_result"
    }
   ],
   "source": [
    "history.history"
   ]
  },
  {
   "cell_type": "code",
   "execution_count": 17,
   "metadata": {},
   "outputs": [
    {
     "data": {
      "text/plain": [
       "[]"
      ]
     },
     "execution_count": 17,
     "metadata": {},
     "output_type": "execute_result"
    },
    {
     "data": {
      "image/png": "[encoded data removed]",
      "text/plain": [
       "<Figure size 432x288 with 1 Axes>"
      ]
     },
     "metadata": {
      "needs_background": "light"
     },
     "output_type": "display_data"
    }
   ],
   "source": [
    "plt.plot(range(20), history.history[\"loss\"], c=\"g\", label = \"train loss\")\n",
    "plt.plot(range(20), history.history[\"val_loss\"], c=\"r\", label = \"validation loss\")\n",
    "\n",
    "plt.xticks(list(range(1, 21)))\n",
    "plt.ylim(0, 0.6)\n",
    "plt.legend()\n",
    "\n",
    "plt.xlabel(\"Epoch\")\n",
    "plt.ylabel(\"Loss\")\n",
    "plt.plot()"
   ]
  },
  {
   "cell_type": "code",
   "execution_count": null,
   "metadata": {},
   "outputs": [],
   "source": []
  },
  {
   "cell_type": "code",
   "execution_count": null,
   "metadata": {},
   "outputs": [],
   "source": []
  }
 ],
 "metadata": {
  "kernelspec": {
   "display_name": "Python 3",
   "language": "python",
   "name": "python3"
  },
  "language_info": {
   "codemirror_mode": {
    "name": "ipython",
    "version": 3
   },
   "file_extension": ".py",
   "mimetype": "text/x-python",
   "name": "python",
   "nbconvert_exporter": "python",
   "pygments_lexer": "ipython3",
   "version": "3.6.9"
  }
 },
 "nbformat": 4,
 "nbformat_minor": 2
}
