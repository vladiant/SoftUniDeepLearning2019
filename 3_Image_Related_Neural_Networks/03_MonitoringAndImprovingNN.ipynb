{
 "cells": [
  {
   "cell_type": "code",
   "execution_count": 1,
   "metadata": {},
   "outputs": [],
   "source": [
    "%matplotlib inline"
   ]
  },
  {
   "cell_type": "code",
   "execution_count": 2,
   "metadata": {},
   "outputs": [],
   "source": [
    "import numpy as np\n",
    "import pandas as pd\n",
    "import matplotlib.pyplot as plt\n",
    "\n",
    "import tensorflow as tf\n",
    "\n",
    "from tensorflow.keras.datasets import mnist\n",
    "\n",
    "from tensorflow.keras.models import Sequential\n",
    "from tensorflow.keras.layers import Input, Flatten, Dense, Dropout, BatchNormalization\n",
    "\n",
    "from tensorflow.keras.metrics import categorical_accuracy, CategoricalAccuracy\n",
    "\n",
    "from tensorflow.keras.optimizers import Adam\n",
    "from tensorflow.keras.losses import SparseCategoricalCrossentropy\n",
    "from tensorflow.keras.metrics import SparseCategoricalAccuracy \n",
    "\n",
    "from tensorflow.keras.callbacks import TensorBoard"
   ]
  },
  {
   "cell_type": "markdown",
   "metadata": {},
   "source": [
    "# Monitoring and Improving Neural Networks\n",
    "## Live Demos"
   ]
  },
  {
   "cell_type": "code",
   "execution_count": 3,
   "metadata": {},
   "outputs": [],
   "source": [
    "(train_images, train_labels), (test_images, test_labels)= mnist.load_data()"
   ]
  },
  {
   "cell_type": "code",
   "execution_count": 4,
   "metadata": {},
   "outputs": [
    {
     "data": {
      "image/png": "[encoded data removed]",
      "text/plain": [
       "<Figure size 432x288 with 1 Axes>"
      ]
     },
     "metadata": {
      "needs_background": "light"
     },
     "output_type": "display_data"
    }
   ],
   "source": [
    "plt.imshow(train_images[0], cmap='gray')\n",
    "plt.title(train_labels[0])\n",
    "plt.show()"
   ]
  },
  {
   "cell_type": "code",
   "execution_count": 5,
   "metadata": {},
   "outputs": [],
   "source": [
    "# Important step - otherwise there will be model exploding!\n",
    "\n",
    "# train_images = train_images / 255.0\n",
    "# test_images = test_images / 255.0\n",
    "\n",
    "# Float16 - to get more data in GPU memory\n",
    "train_images = (train_images / 255.0).astype(np.float16)\n",
    "test_images = (test_images / 255.0).astype(np.float16)"
   ]
  },
  {
   "cell_type": "code",
   "execution_count": 6,
   "metadata": {},
   "outputs": [
    {
     "data": {
      "text/plain": [
       "dtype('float16')"
      ]
     },
     "execution_count": 6,
     "metadata": {},
     "output_type": "execute_result"
    }
   ],
   "source": [
    "test_images.dtype"
   ]
  },
  {
   "cell_type": "code",
   "execution_count": 7,
   "metadata": {},
   "outputs": [],
   "source": [
    "DROPOUT_RATE = 0.1"
   ]
  },
  {
   "cell_type": "code",
   "execution_count": 8,
   "metadata": {},
   "outputs": [],
   "source": [
    "model = Sequential([\n",
    "    Input(shape=train_images[0].shape), # Images with the same shape\n",
    "    Flatten(),\n",
    "    Dense(units=20, activation=tf.keras.activations.relu),\n",
    "    Dropout(DROPOUT_RATE),\n",
    "    Dense(units=50, activation=tf.keras.activations.relu),\n",
    "    Dropout(DROPOUT_RATE),\n",
    "    Dense(units=30, activation=tf.keras.activations.relu),\n",
    "    Dropout(DROPOUT_RATE),\n",
    "    Dense(units=10, activation=tf.keras.activations.softmax)\n",
    "])"
   ]
  },
  {
   "cell_type": "code",
   "execution_count": 9,
   "metadata": {},
   "outputs": [
    {
     "name": "stdout",
     "output_type": "stream",
     "text": [
      "Model: \"sequential\"\n",
      "_________________________________________________________________\n",
      "Layer (type)                 Output Shape              Param #   \n",
      "=================================================================\n",
      "flatten (Flatten)            (None, 784)               0         \n",
      "_________________________________________________________________\n",
      "dense (Dense)                (None, 20)                15700     \n",
      "_________________________________________________________________\n",
      "dropout (Dropout)            (None, 20)                0         \n",
      "_________________________________________________________________\n",
      "dense_1 (Dense)              (None, 50)                1050      \n",
      "_________________________________________________________________\n",
      "dropout_1 (Dropout)          (None, 50)                0         \n",
      "_________________________________________________________________\n",
      "dense_2 (Dense)              (None, 30)                1530      \n",
      "_________________________________________________________________\n",
      "dropout_2 (Dropout)          (None, 30)                0         \n",
      "_________________________________________________________________\n",
      "dense_3 (Dense)              (None, 10)                310       \n",
      "=================================================================\n",
      "Total params: 18,590\n",
      "Trainable params: 18,590\n",
      "Non-trainable params: 0\n",
      "_________________________________________________________________\n"
     ]
    }
   ],
   "source": [
    "model.summary()"
   ]
  },
  {
   "cell_type": "code",
   "execution_count": 10,
   "metadata": {},
   "outputs": [],
   "source": [
    "model.compile(\n",
    "    optimizer = Adam(learning_rate=0.001),\n",
    "    loss = SparseCategoricalCrossentropy(),\n",
    "    metrics = [SparseCategoricalAccuracy()]\n",
    ")"
   ]
  },
  {
   "cell_type": "code",
   "execution_count": 11,
   "metadata": {},
   "outputs": [
    {
     "name": "stdout",
     "output_type": "stream",
     "text": [
      "Train on 54000 samples, validate on 6000 samples\n",
      "Epoch 1/20\n",
      "54000/54000 [==============================] - 7s 130us/sample - loss: 0.5002 - sparse_categorical_accuracy: 0.8443 - val_loss: 0.1789 - val_sparse_categorical_accuracy: 0.9495\n",
      "Epoch 2/20\n",
      "54000/54000 [==============================] - 6s 117us/sample - loss: 0.3138 - sparse_categorical_accuracy: 0.9071 - val_loss: 0.1589 - val_sparse_categorical_accuracy: 0.9517\n",
      "Epoch 3/20\n",
      "54000/54000 [==============================] - 7s 133us/sample - loss: 0.2778 - sparse_categorical_accuracy: 0.9177 - val_loss: 0.1416 - val_sparse_categorical_accuracy: 0.9615\n",
      "Epoch 4/20\n",
      "54000/54000 [==============================] - 7s 134us/sample - loss: 0.2642 - sparse_categorical_accuracy: 0.9226 - val_loss: 0.1506 - val_sparse_categorical_accuracy: 0.9570\n",
      "Epoch 5/20\n",
      "54000/54000 [==============================] - 8s 155us/sample - loss: 0.2482 - sparse_categorical_accuracy: 0.9274 - val_loss: 0.1365 - val_sparse_categorical_accuracy: 0.9585\n",
      "Epoch 6/20\n",
      "54000/54000 [==============================] - 8s 154us/sample - loss: 0.2384 - sparse_categorical_accuracy: 0.9300 - val_loss: 0.1359 - val_sparse_categorical_accuracy: 0.9622\n",
      "Epoch 7/20\n",
      "54000/54000 [==============================] - 8s 146us/sample - loss: 0.2326 - sparse_categorical_accuracy: 0.9313 - val_loss: 0.1313 - val_sparse_categorical_accuracy: 0.9612\n",
      "Epoch 8/20\n",
      "54000/54000 [==============================] - 8s 139us/sample - loss: 0.2280 - sparse_categorical_accuracy: 0.9326 - val_loss: 0.1354 - val_sparse_categorical_accuracy: 0.9607\n",
      "Epoch 9/20\n",
      "54000/54000 [==============================] - 9s 160us/sample - loss: 0.2247 - sparse_categorical_accuracy: 0.9340 - val_loss: 0.1199 - val_sparse_categorical_accuracy: 0.9663\n",
      "Epoch 10/20\n",
      "54000/54000 [==============================] - 7s 138us/sample - loss: 0.2174 - sparse_categorical_accuracy: 0.9358 - val_loss: 0.1223 - val_sparse_categorical_accuracy: 0.9642\n",
      "Epoch 11/20\n",
      "54000/54000 [==============================] - 7s 133us/sample - loss: 0.2129 - sparse_categorical_accuracy: 0.9357 - val_loss: 0.1274 - val_sparse_categorical_accuracy: 0.9617\n",
      "Epoch 12/20\n",
      "54000/54000 [==============================] - 8s 151us/sample - loss: 0.2070 - sparse_categorical_accuracy: 0.9377 - val_loss: 0.1328 - val_sparse_categorical_accuracy: 0.9623\n",
      "Epoch 13/20\n",
      "54000/54000 [==============================] - 7s 127us/sample - loss: 0.2088 - sparse_categorical_accuracy: 0.9382 - val_loss: 0.1292 - val_sparse_categorical_accuracy: 0.9633\n",
      "Epoch 14/20\n",
      "54000/54000 [==============================] - 8s 140us/sample - loss: 0.2042 - sparse_categorical_accuracy: 0.9397 - val_loss: 0.1300 - val_sparse_categorical_accuracy: 0.9618\n",
      "Epoch 15/20\n",
      "54000/54000 [==============================] - 8s 147us/sample - loss: 0.1999 - sparse_categorical_accuracy: 0.9405 - val_loss: 0.1341 - val_sparse_categorical_accuracy: 0.9618\n",
      "Epoch 16/20\n",
      "54000/54000 [==============================] - 8s 148us/sample - loss: 0.1987 - sparse_categorical_accuracy: 0.9415 - val_loss: 0.1309 - val_sparse_categorical_accuracy: 0.9607\n",
      "Epoch 17/20\n",
      "54000/54000 [==============================] - 8s 140us/sample - loss: 0.1950 - sparse_categorical_accuracy: 0.9427 - val_loss: 0.1334 - val_sparse_categorical_accuracy: 0.9637\n",
      "Epoch 18/20\n",
      "54000/54000 [==============================] - 7s 129us/sample - loss: 0.1936 - sparse_categorical_accuracy: 0.9423 - val_loss: 0.1252 - val_sparse_categorical_accuracy: 0.9643\n",
      "Epoch 19/20\n",
      "54000/54000 [==============================] - 7s 134us/sample - loss: 0.1923 - sparse_categorical_accuracy: 0.9424 - val_loss: 0.1244 - val_sparse_categorical_accuracy: 0.9635\n",
      "Epoch 20/20\n",
      "54000/54000 [==============================] - 8s 143us/sample - loss: 0.1888 - sparse_categorical_accuracy: 0.9430 - val_loss: 0.1361 - val_sparse_categorical_accuracy: 0.9622\n"
     ]
    }
   ],
   "source": [
    "history = model.fit(\n",
    "    x = train_images,\n",
    "    y = train_labels,\n",
    "    epochs = 20,\n",
    "    batch_size = 8,\n",
    "    validation_split = 0.1,\n",
    "#     initial_epoch = 0 # Where to start from remebered data\n",
    "    callbacks = [TensorBoard()]\n",
    ")"
   ]
  },
  {
   "cell_type": "code",
   "execution_count": 12,
   "metadata": {},
   "outputs": [
    {
     "data": {
      "text/plain": [
       "array([[7.1015330e-14, 1.1845996e-08, 1.1735117e-10, 4.5495466e-03,\n",
       "        1.9307021e-17, 9.9545008e-01, 3.4179511e-13, 7.0373572e-12,\n",
       "        5.8178702e-09, 3.6158826e-07],\n",
       "       [9.9994051e-01, 1.6967687e-16, 7.2249991e-06, 5.5591988e-07,\n",
       "        9.4438569e-08, 9.6584772e-06, 1.7310280e-07, 1.2442768e-05,\n",
       "        5.6906050e-08, 2.9298804e-05],\n",
       "       [6.7699020e-06, 1.1509382e-05, 6.1040791e-04, 1.4168187e-04,\n",
       "        9.9557978e-01, 5.0443737e-04, 1.7986730e-04, 5.7717162e-04,\n",
       "        2.5041477e-04, 2.1379599e-03],\n",
       "       [5.1971388e-13, 9.9904650e-01, 4.0429270e-05, 7.9347279e-05,\n",
       "        2.1246928e-08, 1.3925953e-05, 3.8059369e-07, 8.0360624e-04,\n",
       "        1.5007928e-05, 7.3122260e-07],\n",
       "       [1.8890731e-07, 3.7373575e-06, 3.8056878e-06, 2.0741190e-04,\n",
       "        2.1327923e-03, 4.3648677e-05, 4.4736967e-06, 8.7853760e-04,\n",
       "        4.6686218e-05, 9.9667871e-01],\n",
       "       [1.5395507e-08, 1.4829160e-04, 9.1069883e-01, 5.0278172e-02,\n",
       "        8.9264649e-09, 6.6671646e-06, 1.5964284e-11, 3.8394377e-02,\n",
       "        4.7358370e-04, 9.9331551e-08],\n",
       "       [2.3369577e-13, 9.9989951e-01, 3.2195094e-06, 4.9368091e-06,\n",
       "        1.0007464e-08, 3.9257779e-06, 1.4759335e-07, 4.9135895e-05,\n",
       "        3.8119921e-05, 1.0101172e-06],\n",
       "       [2.7325634e-25, 6.4509097e-12, 1.1906032e-10, 1.0000000e+00,\n",
       "        4.1684219e-27, 2.5355427e-09, 3.9046260e-33, 3.3464298e-10,\n",
       "        9.5622150e-09, 1.6630319e-11],\n",
       "       [1.3953598e-13, 9.9989176e-01, 3.6426156e-06, 1.6958091e-05,\n",
       "        2.5349864e-10, 6.2424879e-05, 4.7506848e-08, 1.6615775e-05,\n",
       "        8.0935824e-06, 3.7840292e-07],\n",
       "       [1.6784955e-07, 1.5722746e-11, 2.5840953e-05, 8.0434512e-07,\n",
       "        9.9995327e-01, 8.9564764e-06, 1.7536305e-06, 5.0098124e-06,\n",
       "        9.4930101e-08, 4.2449501e-06]], dtype=float32)"
      ]
     },
     "execution_count": 12,
     "metadata": {},
     "output_type": "execute_result"
    }
   ],
   "source": [
    "model.predict(train_images[0:10])"
   ]
  },
  {
   "cell_type": "code",
   "execution_count": 13,
   "metadata": {},
   "outputs": [
    {
     "data": {
      "text/plain": [
       "array([7, 2, 1, 0, 4, 1, 4, 9, 5, 9])"
      ]
     },
     "execution_count": 13,
     "metadata": {},
     "output_type": "execute_result"
    }
   ],
   "source": [
    "test_predicitons = model.predict_classes(test_images[:10])\n",
    "test_predicitons"
   ]
  },
  {
   "cell_type": "code",
   "execution_count": 14,
   "metadata": {},
   "outputs": [
    {
     "data": {
      "text/plain": [
       "array([7, 2, 1, 0, 4, 1, 4, 9, 5, 9], dtype=uint8)"
      ]
     },
     "execution_count": 14,
     "metadata": {},
     "output_type": "execute_result"
    }
   ],
   "source": [
    "test_labels[:10]"
   ]
  },
  {
   "cell_type": "code",
   "execution_count": 15,
   "metadata": {},
   "outputs": [
    {
     "data": {
      "text/plain": [
       "1.0"
      ]
     },
     "execution_count": 15,
     "metadata": {},
     "output_type": "execute_result"
    }
   ],
   "source": [
    "(test_predicitons == test_labels[:10]).sum()/len(test_predicitons)"
   ]
  },
  {
   "cell_type": "code",
   "execution_count": 16,
   "metadata": {},
   "outputs": [
    {
     "data": {
      "text/plain": [
       "{'loss': [0.5002222815284988,\n",
       "  0.31380232139681985,\n",
       "  0.27779336944234523,\n",
       "  0.2642375995599734,\n",
       "  0.24824319881841506,\n",
       "  0.23835917825408331,\n",
       "  0.23263745990071308,\n",
       "  0.22796863455217573,\n",
       "  0.22469669666455808,\n",
       "  0.21743891843345828,\n",
       "  0.21289982645902178,\n",
       "  0.20700521391633622,\n",
       "  0.20882718122355248,\n",
       "  0.20421453799029782,\n",
       "  0.19987437954084966,\n",
       "  0.19870730883976515,\n",
       "  0.1949956567224527,\n",
       "  0.19355907723643273,\n",
       "  0.19226383949720616,\n",
       "  0.18876568697661072],\n",
       " 'sparse_categorical_accuracy': [0.84425926,\n",
       "  0.9070926,\n",
       "  0.9177037,\n",
       "  0.92264813,\n",
       "  0.92735183,\n",
       "  0.92998147,\n",
       "  0.9312963,\n",
       "  0.9325741,\n",
       "  0.93396294,\n",
       "  0.93575925,\n",
       "  0.93572223,\n",
       "  0.93766665,\n",
       "  0.9382037,\n",
       "  0.9396667,\n",
       "  0.94053704,\n",
       "  0.94146293,\n",
       "  0.9426852,\n",
       "  0.94233334,\n",
       "  0.9424259,\n",
       "  0.9429815],\n",
       " 'val_loss': [0.17894663343252615,\n",
       "  0.15887690789850117,\n",
       "  0.1416049671410195,\n",
       "  0.15058794411558968,\n",
       "  0.1364721572046401,\n",
       "  0.13594686537484327,\n",
       "  0.1313266566558353,\n",
       "  0.13541951621044426,\n",
       "  0.11994807310091953,\n",
       "  0.12230902730650269,\n",
       "  0.12735068205196876,\n",
       "  0.13283098802949342,\n",
       "  0.12920969272208943,\n",
       "  0.13003494262770982,\n",
       "  0.1340616389710922,\n",
       "  0.13094378823620112,\n",
       "  0.13336074958122723,\n",
       "  0.1251610330166295,\n",
       "  0.12440209642857857,\n",
       "  0.13612231613438538],\n",
       " 'val_sparse_categorical_accuracy': [0.9495,\n",
       "  0.95166665,\n",
       "  0.9615,\n",
       "  0.957,\n",
       "  0.9585,\n",
       "  0.96216667,\n",
       "  0.9611667,\n",
       "  0.96066666,\n",
       "  0.9663333,\n",
       "  0.96416664,\n",
       "  0.96166664,\n",
       "  0.9623333,\n",
       "  0.9633333,\n",
       "  0.96183336,\n",
       "  0.96183336,\n",
       "  0.96066666,\n",
       "  0.9636667,\n",
       "  0.96433336,\n",
       "  0.9635,\n",
       "  0.96216667]}"
      ]
     },
     "execution_count": 16,
     "metadata": {},
     "output_type": "execute_result"
    }
   ],
   "source": [
    "history.history"
   ]
  },
  {
   "cell_type": "code",
   "execution_count": 17,
   "metadata": {},
   "outputs": [
    {
     "data": {
      "text/plain": [
       "[]"
      ]
     },
     "execution_count": 17,
     "metadata": {},
     "output_type": "execute_result"
    },
    {
     "data": {
      "image/png": "[encoded data removed]",
      "text/plain": [
       "<Figure size 432x288 with 1 Axes>"
      ]
     },
     "metadata": {
      "needs_background": "light"
     },
     "output_type": "display_data"
    }
   ],
   "source": [
    "plt.plot(range(20), history.history[\"loss\"], c=\"g\", label = \"train loss\")\n",
    "plt.plot(range(20), history.history[\"val_loss\"], c=\"r\", label = \"validation loss\")\n",
    "\n",
    "plt.xticks(list(range(1, 21)))\n",
    "plt.ylim(0, 0.6)\n",
    "plt.legend()\n",
    "\n",
    "plt.xlabel(\"Epoch\")\n",
    "plt.ylabel(\"Loss\")\n",
    "plt.plot()"
   ]
  },
  {
   "cell_type": "code",
   "execution_count": null,
   "metadata": {},
   "outputs": [],
   "source": []
  },
  {
   "cell_type": "code",
   "execution_count": null,
   "metadata": {},
   "outputs": [],
   "source": []
  }
 ],
 "metadata": {
  "kernelspec": {
   "display_name": "Python 3",
   "language": "python",
   "name": "python3"
  },
  "language_info": {
   "codemirror_mode": {
    "name": "ipython",
    "version": 3
   },
   "file_extension": ".py",
   "mimetype": "text/x-python",
   "name": "python",
   "nbconvert_exporter": "python",
   "pygments_lexer": "ipython3",
   "version": "3.6.9"
  }
 },
 "nbformat": 4,
 "nbformat_minor": 2
}
