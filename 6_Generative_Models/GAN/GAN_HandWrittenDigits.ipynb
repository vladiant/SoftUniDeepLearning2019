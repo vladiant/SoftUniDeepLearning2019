{
 "cells": [
  {
   "cell_type": "markdown",
   "metadata": {},
   "source": [
    "Handwritten Digits Generator With a GAN"
   ]
  },
  {
   "cell_type": "markdown",
   "metadata": {},
   "source": [
    "https://realpython.com/generative-adversarial-networks/"
   ]
  },
  {
   "cell_type": "code",
   "execution_count": 1,
   "metadata": {},
   "outputs": [],
   "source": [
    "import torch\n",
    "from torch import nn"
   ]
  },
  {
   "cell_type": "code",
   "execution_count": 2,
   "metadata": {},
   "outputs": [],
   "source": [
    "import math\n",
    "import matplotlib.pyplot as plt"
   ]
  },
  {
   "cell_type": "code",
   "execution_count": 3,
   "metadata": {},
   "outputs": [],
   "source": [
    "import torchvision\n",
    "import torchvision.transforms as transforms"
   ]
  },
  {
   "cell_type": "code",
   "execution_count": 4,
   "metadata": {},
   "outputs": [
    {
     "data": {
      "text/plain": [
       "<torch._C.Generator at 0x7f47f853c210>"
      ]
     },
     "execution_count": 4,
     "metadata": {},
     "output_type": "execute_result"
    }
   ],
   "source": [
    "torch.manual_seed(111)"
   ]
  },
  {
   "cell_type": "code",
   "execution_count": 5,
   "metadata": {},
   "outputs": [],
   "source": [
    "device = \"\"\n",
    "if torch.cuda.is_available():\n",
    "    device = torch.device(\"cuda\")\n",
    "else:\n",
    "    device = torch.device(\"cpu\")"
   ]
  },
  {
   "cell_type": "code",
   "execution_count": 6,
   "metadata": {},
   "outputs": [
    {
     "data": {
      "text/plain": [
       "device(type='cpu')"
      ]
     },
     "execution_count": 6,
     "metadata": {},
     "output_type": "execute_result"
    }
   ],
   "source": [
    "device"
   ]
  },
  {
   "cell_type": "markdown",
   "metadata": {},
   "source": [
    "Prepare the training data"
   ]
  },
  {
   "cell_type": "code",
   "execution_count": 7,
   "metadata": {},
   "outputs": [],
   "source": [
    "transform = transforms.Compose(\n",
    "    [transforms.ToTensor(), transforms.Normalize((0.5,), (0.5,))]\n",
    ")"
   ]
  },
  {
   "cell_type": "code",
   "execution_count": 8,
   "metadata": {},
   "outputs": [],
   "source": [
    "train_set = torchvision.datasets.MNIST(\n",
    "    root=\".\", train=True, download=True, transform=transform\n",
    ")"
   ]
  },
  {
   "cell_type": "markdown",
   "metadata": {},
   "source": [
    "PyTorch data loader"
   ]
  },
  {
   "cell_type": "code",
   "execution_count": 9,
   "metadata": {},
   "outputs": [],
   "source": [
    "batch_size = 32\n",
    "train_loader = torch.utils.data.DataLoader(\n",
    "    train_set, batch_size=batch_size, shuffle = True\n",
    ")"
   ]
  },
  {
   "cell_type": "code",
   "execution_count": 10,
   "metadata": {},
   "outputs": [
    {
     "data": {
      "image/png": "[encoded data removed]",
      "text/plain": [
       "<Figure size 432x288 with 16 Axes>"
      ]
     },
     "metadata": {},
     "output_type": "display_data"
    }
   ],
   "source": [
    "real_samples, mnist_labels = next(iter(train_loader))\n",
    "for i in range(16):\n",
    "    ax = plt.subplot(4, 4, i + 1)\n",
    "    plt.imshow(real_samples[i].reshape(28,28), cmap=\"gray_r\")\n",
    "    plt.xticks([])\n",
    "    plt.yticks([])"
   ]
  },
  {
   "cell_type": "markdown",
   "metadata": {},
   "source": [
    "Implementing the Discriminator"
   ]
  },
  {
   "cell_type": "code",
   "execution_count": 11,
   "metadata": {},
   "outputs": [],
   "source": [
    "class Discriminator(nn.Module):\n",
    "    def __init__(self):\n",
    "        super().__init__()\n",
    "        self.model = nn.Sequential(\n",
    "            nn.Linear(784, 1024),\n",
    "            nn.ReLU(),\n",
    "            nn.Dropout(0.3),\n",
    "            nn.Linear(1024, 512),\n",
    "            nn.ReLU(),\n",
    "            nn.Dropout(0.3),\n",
    "            nn.Linear(512, 256),\n",
    "            nn.ReLU(),\n",
    "            nn.Dropout(0.3),\n",
    "            nn.Linear(256, 1),\n",
    "            nn.Sigmoid()\n",
    "        )\n",
    "        \n",
    "    def forward(self, x):\n",
    "        x = x.view(x.size(0), 784)\n",
    "        output = self.model(x)\n",
    "        return output        "
   ]
  },
  {
   "cell_type": "code",
   "execution_count": 12,
   "metadata": {},
   "outputs": [],
   "source": [
    "discriminator = Discriminator().to(device=device)"
   ]
  },
  {
   "cell_type": "markdown",
   "metadata": {},
   "source": [
    "Implementing the Generator"
   ]
  },
  {
   "cell_type": "code",
   "execution_count": 13,
   "metadata": {},
   "outputs": [],
   "source": [
    "class Generator(nn.Module):\n",
    "    def __init__(self):\n",
    "        super().__init__()\n",
    "        self.model = nn.Sequential(\n",
    "            nn.Linear(100, 256),\n",
    "            nn.ReLU(),\n",
    "            nn.Linear(256, 512),\n",
    "            nn.ReLU(),\n",
    "            nn.Linear(512, 1024),\n",
    "            nn.ReLU(),\n",
    "            nn.Linear(1024, 784),\n",
    "            nn.Tanh()\n",
    "        )\n",
    "        \n",
    "    def forward(self, x):\n",
    "        output = self.model(x)\n",
    "        output = output.view(x.size(0), 1, 28, 28)\n",
    "        return output    "
   ]
  },
  {
   "cell_type": "code",
   "execution_count": 14,
   "metadata": {},
   "outputs": [],
   "source": [
    "generator = Generator().to(device=device)"
   ]
  },
  {
   "cell_type": "markdown",
   "metadata": {},
   "source": [
    "Training the Models"
   ]
  },
  {
   "cell_type": "code",
   "execution_count": 15,
   "metadata": {},
   "outputs": [],
   "source": [
    "lr = 0.0005\n",
    "num_epochs = 50\n",
    "loss_function = nn.BCELoss()"
   ]
  },
  {
   "cell_type": "code",
   "execution_count": 16,
   "metadata": {},
   "outputs": [],
   "source": [
    "optimizer_discriminator = torch.optim.Adam(discriminator.parameters(), lr=lr)\n",
    "optimzier_generator = torch.optim.Adam(generator.parameters(), lr=lr)"
   ]
  },
  {
   "cell_type": "markdown",
   "metadata": {},
   "source": [
    "Training Loop"
   ]
  },
  {
   "cell_type": "code",
   "execution_count": 17,
   "metadata": {},
   "outputs": [
    {
     "name": "stdout",
     "output_type": "stream",
     "text": [
      "Epoch: 0 Loss D. 0.019823338836431503\n",
      "Epoch: 0 Loss G. 5.8210673332214355\n",
      "Epoch: 1 Loss D. 0.572878360748291\n",
      "Epoch: 1 Loss G. 0.9533067345619202\n",
      "Epoch: 2 Loss D. 0.6351348757743835\n",
      "Epoch: 2 Loss G. 1.099226713180542\n",
      "Epoch: 3 Loss D. 0.6745572686195374\n",
      "Epoch: 3 Loss G. 0.7038859128952026\n",
      "Epoch: 4 Loss D. 0.630683958530426\n",
      "Epoch: 4 Loss G. 0.7374206185340881\n",
      "Epoch: 5 Loss D. 0.6760937571525574\n",
      "Epoch: 5 Loss G. 0.6911845207214355\n",
      "Epoch: 6 Loss D. 0.6925050020217896\n",
      "Epoch: 6 Loss G. 0.6902512311935425\n",
      "Epoch: 7 Loss D. 0.6931874752044678\n",
      "Epoch: 7 Loss G. 0.6916202306747437\n",
      "Epoch: 8 Loss D. 0.692099928855896\n",
      "Epoch: 8 Loss G. 0.6941457986831665\n",
      "Epoch: 9 Loss D. 0.6945544481277466\n",
      "Epoch: 9 Loss G. 0.6941748857498169\n",
      "Epoch: 10 Loss D. 0.6923317909240723\n",
      "Epoch: 10 Loss G. 0.6936473250389099\n",
      "Epoch: 11 Loss D. 0.6934249401092529\n",
      "Epoch: 11 Loss G. 0.6941923499107361\n",
      "Epoch: 12 Loss D. 0.6930896043777466\n",
      "Epoch: 12 Loss G. 0.6934677362442017\n",
      "Epoch: 13 Loss D. 0.6940011382102966\n",
      "Epoch: 13 Loss G. 0.6932436227798462\n",
      "Epoch: 14 Loss D. 0.6943175792694092\n",
      "Epoch: 14 Loss G. 0.6937589049339294\n",
      "Epoch: 15 Loss D. 0.6927701234817505\n",
      "Epoch: 15 Loss G. 0.6945240497589111\n",
      "Epoch: 16 Loss D. 0.694300651550293\n",
      "Epoch: 16 Loss G. 0.6937056183815002\n",
      "Epoch: 17 Loss D. 0.6932734251022339\n",
      "Epoch: 17 Loss G. 0.6942755579948425\n",
      "Epoch: 18 Loss D. 0.6941851377487183\n",
      "Epoch: 18 Loss G. 0.6915316581726074\n",
      "Epoch: 19 Loss D. 0.6928359866142273\n",
      "Epoch: 19 Loss G. 0.6933993101119995\n",
      "Epoch: 20 Loss D. 0.6931376457214355\n",
      "Epoch: 20 Loss G. 0.6923707723617554\n",
      "Epoch: 21 Loss D. 0.692902684211731\n",
      "Epoch: 21 Loss G. 0.6925176978111267\n",
      "Epoch: 22 Loss D. 0.6937559843063354\n",
      "Epoch: 22 Loss G. 0.6925652027130127\n",
      "Epoch: 23 Loss D. 0.6936947703361511\n",
      "Epoch: 23 Loss G. 0.693314254283905\n",
      "Epoch: 24 Loss D. 0.6923174858093262\n",
      "Epoch: 24 Loss G. 0.6928710341453552\n",
      "Epoch: 25 Loss D. 0.6933326721191406\n",
      "Epoch: 25 Loss G. 0.6930239200592041\n",
      "Epoch: 26 Loss D. 0.693058967590332\n",
      "Epoch: 26 Loss G. 0.6935843825340271\n",
      "Epoch: 27 Loss D. 0.6928570866584778\n",
      "Epoch: 27 Loss G. 0.6940972208976746\n",
      "Epoch: 28 Loss D. 0.6927827596664429\n",
      "Epoch: 28 Loss G. 0.692915141582489\n",
      "Epoch: 29 Loss D. 0.6933410167694092\n",
      "Epoch: 29 Loss G. 0.6937009692192078\n",
      "Epoch: 30 Loss D. 0.6927797794342041\n",
      "Epoch: 30 Loss G. 0.6935655474662781\n",
      "Epoch: 31 Loss D. 0.6945974826812744\n",
      "Epoch: 31 Loss G. 0.6929131746292114\n",
      "Epoch: 32 Loss D. 0.6916583776473999\n",
      "Epoch: 32 Loss G. 0.6918007135391235\n",
      "Epoch: 33 Loss D. 0.6941077709197998\n",
      "Epoch: 33 Loss G. 0.6938400268554688\n",
      "Epoch: 34 Loss D. 0.694333553314209\n",
      "Epoch: 34 Loss G. 0.6936214566230774\n",
      "Epoch: 35 Loss D. 0.6927732229232788\n",
      "Epoch: 35 Loss G. 0.692317008972168\n",
      "Epoch: 36 Loss D. 0.6932970881462097\n",
      "Epoch: 36 Loss G. 0.6932166814804077\n",
      "Epoch: 37 Loss D. 0.6946009993553162\n",
      "Epoch: 37 Loss G. 0.6938576698303223\n",
      "Epoch: 38 Loss D. 0.6932369470596313\n",
      "Epoch: 38 Loss G. 0.6921963095664978\n",
      "Epoch: 39 Loss D. 0.6930934190750122\n",
      "Epoch: 39 Loss G. 0.6959250569343567\n",
      "Epoch: 40 Loss D. 0.6925327181816101\n",
      "Epoch: 40 Loss G. 0.6943702697753906\n",
      "Epoch: 41 Loss D. 0.6929544806480408\n",
      "Epoch: 41 Loss G. 0.6935264468193054\n",
      "Epoch: 42 Loss D. 0.6927921175956726\n",
      "Epoch: 42 Loss G. 0.6931648254394531\n",
      "Epoch: 43 Loss D. 0.6928783655166626\n",
      "Epoch: 43 Loss G. 0.692509651184082\n",
      "Epoch: 44 Loss D. 0.6929055452346802\n",
      "Epoch: 44 Loss G. 0.6933222413063049\n",
      "Epoch: 45 Loss D. 0.6932080388069153\n",
      "Epoch: 45 Loss G. 0.692663311958313\n",
      "Epoch: 46 Loss D. 0.6932469606399536\n",
      "Epoch: 46 Loss G. 0.6937077641487122\n",
      "Epoch: 47 Loss D. 0.693072497844696\n",
      "Epoch: 47 Loss G. 0.6925832033157349\n",
      "Epoch: 48 Loss D. 0.6926387548446655\n",
      "Epoch: 48 Loss G. 0.6915854811668396\n",
      "Epoch: 49 Loss D. 0.692751407623291\n",
      "Epoch: 49 Loss G. 0.6925303339958191\n"
     ]
    }
   ],
   "source": [
    "for epoch in range(num_epochs):\n",
    "    for n,(real_samples, _) in enumerate(train_loader):\n",
    "        # Data for training the discriminator\n",
    "        real_samples = real_samples.to(device=device)\n",
    "        real_samples_labels = torch.ones((batch_size, 1)).to(device=device)\n",
    "        latent_space_samples = torch.randn((batch_size, 100)).to(device=device)\n",
    "        generated_samples = generator(latent_space_samples)\n",
    "        generated_samples_labels = torch.zeros((batch_size, 1)).to(device=device)\n",
    "        all_samples = torch.cat((real_samples, generated_samples))\n",
    "        all_samples_labels = torch.cat((real_samples_labels, generated_samples_labels))\n",
    "        \n",
    "        # Training the discriminator\n",
    "        discriminator.zero_grad()\n",
    "        output_discriminator = discriminator(all_samples)\n",
    "        loss_discriminator = loss_function(output_discriminator, all_samples_labels)\n",
    "        loss_discriminator.backward()\n",
    "        optimizer_discriminator.step()\n",
    "        \n",
    "        # Data for training the generator\n",
    "        latent_space_samples = torch.randn((batch_size, 100)).to(device=device)\n",
    "        \n",
    "        # Training the generator\n",
    "        generator.zero_grad()\n",
    "        generated_samples = generator(latent_space_samples)\n",
    "        output_discriminator_generated = discriminator(generated_samples)\n",
    "        loss_generator = loss_function(output_discriminator_generated, real_samples_labels)\n",
    "        loss_generator.backward()\n",
    "        optimzier_generator.step()\n",
    "        \n",
    "        # Show loss\n",
    "        if n == batch_size - 1:\n",
    "            print(f\"Epoch: {epoch} Loss D. {loss_discriminator}\")\n",
    "            print(f\"Epoch: {epoch} Loss G. {loss_generator}\")"
   ]
  },
  {
   "cell_type": "markdown",
   "metadata": {},
   "source": [
    "Checking samples generated by GAN"
   ]
  },
  {
   "cell_type": "code",
   "execution_count": 18,
   "metadata": {},
   "outputs": [],
   "source": [
    "latent_space_samples = torch.randn(batch_size, 100).to(device=device)\n",
    "generated_samples = generator(latent_space_samples)"
   ]
  },
  {
   "cell_type": "code",
   "execution_count": 19,
   "metadata": {},
   "outputs": [
    {
     "data": {
      "image/png": "[encoded data removed]",
      "text/plain": [
       "<Figure size 432x288 with 16 Axes>"
      ]
     },
     "metadata": {},
     "output_type": "display_data"
    }
   ],
   "source": [
    "generated_samples = generated_samples.cpu().detach()\n",
    "for i in range(16):\n",
    "    ax = plt.subplot(4, 4, i + 1)\n",
    "    plt.imshow(generated_samples[i].reshape(28,28), cmap=\"gray_r\")\n",
    "    plt.xticks([])\n",
    "    plt.yticks([])"
   ]
  },
  {
   "cell_type": "code",
   "execution_count": null,
   "metadata": {},
   "outputs": [],
   "source": []
  }
 ],
 "metadata": {
  "kernelspec": {
   "display_name": "Python 3",
   "language": "python",
   "name": "python3"
  },
  "language_info": {
   "codemirror_mode": {
    "name": "ipython",
    "version": 3
   },
   "file_extension": ".py",
   "mimetype": "text/x-python",
   "name": "python",
   "nbconvert_exporter": "python",
   "pygments_lexer": "ipython3",
   "version": "3.6.9"
  }
 },
 "nbformat": 4,
 "nbformat_minor": 2
}
