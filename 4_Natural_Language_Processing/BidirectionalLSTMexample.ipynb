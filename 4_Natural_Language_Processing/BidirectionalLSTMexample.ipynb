{
 "cells": [
  {
   "cell_type": "code",
   "execution_count": 1,
   "metadata": {},
   "outputs": [],
   "source": [
    "import tensorflow as tf\n",
    "import tensorflow_datasets as tfds"
   ]
  },
  {
   "cell_type": "code",
   "execution_count": 2,
   "metadata": {},
   "outputs": [],
   "source": [
    "dataset, info = tfds.load('imdb_reviews/subwords8k', with_info=True, as_supervised=True)"
   ]
  },
  {
   "cell_type": "code",
   "execution_count": 3,
   "metadata": {},
   "outputs": [],
   "source": [
    "train_dataset, test_dataset = dataset['train'], dataset['test']"
   ]
  },
  {
   "cell_type": "code",
   "execution_count": 4,
   "metadata": {},
   "outputs": [],
   "source": [
    "encoder = info.features['text'].encoder"
   ]
  },
  {
   "cell_type": "code",
   "execution_count": 5,
   "metadata": {},
   "outputs": [],
   "source": [
    "BUFFER_SIZE = 10000\n",
    "BATCH_SIZE = 64"
   ]
  },
  {
   "cell_type": "code",
   "execution_count": 6,
   "metadata": {},
   "outputs": [],
   "source": [
    "padded_shapes = ([None],())"
   ]
  },
  {
   "cell_type": "code",
   "execution_count": 7,
   "metadata": {},
   "outputs": [],
   "source": [
    "train_dataset = train_dataset.shuffle(BUFFER_SIZE).padded_batch(BATCH_SIZE, padded_shapes=padded_shapes)"
   ]
  },
  {
   "cell_type": "code",
   "execution_count": 8,
   "metadata": {},
   "outputs": [],
   "source": [
    "test_dataset = test_dataset.shuffle(BUFFER_SIZE).padded_batch(BATCH_SIZE, padded_shapes=padded_shapes)"
   ]
  },
  {
   "cell_type": "code",
   "execution_count": 9,
   "metadata": {},
   "outputs": [],
   "source": [
    "model = tf.keras.Sequential([\n",
    "    tf.keras.layers.Embedding(encoder.vocab_size, 64),\n",
    "    tf.keras.layers.Bidirectional(tf.keras.layers.LSTM(64)),\n",
    "    tf.keras.layers.Dense(64, activation='relu'),\n",
    "    tf.keras.layers.Dense(1, activation='sigmoid')\n",
    "])"
   ]
  },
  {
   "cell_type": "code",
   "execution_count": 10,
   "metadata": {},
   "outputs": [],
   "source": [
    "model.compile(optimizer=tf.keras.optimizers.Adam(1e-4),\n",
    "              loss='binary_crossentropy',\n",
    "              metrics=['accuracy'])"
   ]
  },
  {
   "cell_type": "code",
   "execution_count": 11,
   "metadata": {},
   "outputs": [
    {
     "name": "stdout",
     "output_type": "stream",
     "text": [
      "Epoch 1/5\n",
      "391/391 [==============================] - 282s 721ms/step - loss: 0.6298 - accuracy: 0.6186 - val_loss: 0.4512 - val_accuracy: 0.7896\n",
      "Epoch 2/5\n",
      "391/391 [==============================] - 276s 706ms/step - loss: 0.3298 - accuracy: 0.8693 - val_loss: 0.3398 - val_accuracy: 0.8589\n",
      "Epoch 3/5\n",
      "391/391 [==============================] - 283s 724ms/step - loss: 0.2450 - accuracy: 0.9097 - val_loss: 0.3781 - val_accuracy: 0.8469\n",
      "Epoch 4/5\n",
      "391/391 [==============================] - 331s 846ms/step - loss: 0.2028 - accuracy: 0.9296 - val_loss: 0.3255 - val_accuracy: 0.8760\n",
      "Epoch 5/5\n",
      "391/391 [==============================] - 311s 795ms/step - loss: 0.1800 - accuracy: 0.9388 - val_loss: 0.3498 - val_accuracy: 0.8589\n"
     ]
    }
   ],
   "source": [
    "history = model.fit(train_dataset, epochs=5, validation_data=test_dataset, validation_steps=30)"
   ]
  },
  {
   "cell_type": "code",
   "execution_count": 12,
   "metadata": {},
   "outputs": [],
   "source": [
    "def pad_to_size(vec, size):\n",
    "    zeros = [0]*(size - len(vec))\n",
    "    vec.extend(zeros)\n",
    "    return vec"
   ]
  },
  {
   "cell_type": "code",
   "execution_count": 13,
   "metadata": {},
   "outputs": [],
   "source": [
    "def sample_predict(sentence, pad, model):\n",
    "    encoded_sample_pred_text = encoder.encode(sentence)\n",
    "    if pad:\n",
    "        encoded_sample_pred_text = pad_to_size(encoded_sample_pred_text, 64)\n",
    "    encoded_sample_pred_text = tf.cast(encoded_sample_pred_text, tf.float32)\n",
    "    predictions = model.predict(tf.expand_dims(encoded_sample_pred_text, 0))\n",
    "    \n",
    "    return predictions"
   ]
  },
  {
   "cell_type": "code",
   "execution_count": 14,
   "metadata": {},
   "outputs": [
    {
     "name": "stdout",
     "output_type": "stream",
     "text": [
      "probability this is a positive review {} [[80.845436]]\n"
     ]
    }
   ],
   "source": [
    "sample_text = \"This movie was awesome. The acting was incredible. Highly recommend\"\n",
    "predictions = sample_predict(sample_text, pad=True, model=model) * 100\n",
    "print('probability this is a positive review {}', predictions)"
   ]
  },
  {
   "cell_type": "code",
   "execution_count": 15,
   "metadata": {},
   "outputs": [
    {
     "name": "stdout",
     "output_type": "stream",
     "text": [
      "probability this is a positive review {} [[47.837944]]\n"
     ]
    }
   ],
   "source": [
    "sample_text = \"This movie was so so. The acting was medicore. Kind recommend\"\n",
    "predictions = sample_predict(sample_text, pad=True, model=model) * 100\n",
    "print('probability this is a positive review {}', predictions)"
   ]
  },
  {
   "cell_type": "code",
   "execution_count": 16,
   "metadata": {},
   "outputs": [],
   "source": [
    "model1 = tf.keras.Sequential([\n",
    "    tf.keras.layers.Embedding(encoder.vocab_size, 64),\n",
    "    tf.keras.layers.Bidirectional(tf.keras.layers.LSTM(64, return_sequences=True)),\n",
    "    tf.keras.layers.Bidirectional(tf.keras.layers.LSTM(32)),\n",
    "    tf.keras.layers.Dense(64, activation='relu'),\n",
    "    tf.keras.layers.Dropout(0.5),\n",
    "    tf.keras.layers.Dense(1, activation='sigmoid')\n",
    "])"
   ]
  },
  {
   "cell_type": "code",
   "execution_count": 17,
   "metadata": {},
   "outputs": [],
   "source": [
    "model1.compile(optimizer=tf.keras.optimizers.Adam(1e-4),\n",
    "              loss='binary_crossentropy',\n",
    "              metrics=['accuracy'])"
   ]
  },
  {
   "cell_type": "code",
   "execution_count": 18,
   "metadata": {},
   "outputs": [
    {
     "name": "stdout",
     "output_type": "stream",
     "text": [
      "Epoch 1/5\n",
      "391/391 [==============================] - 544s 1s/step - loss: 0.6585 - accuracy: 0.5893 - val_loss: 0.5245 - val_accuracy: 0.7677\n",
      "Epoch 2/5\n",
      "391/391 [==============================] - 543s 1s/step - loss: 0.4520 - accuracy: 0.8101 - val_loss: 0.4160 - val_accuracy: 0.8240\n",
      "Epoch 3/5\n",
      "391/391 [==============================] - 536s 1s/step - loss: 0.3625 - accuracy: 0.8605 - val_loss: 0.4247 - val_accuracy: 0.8286\n",
      "Epoch 4/5\n",
      "391/391 [==============================] - 531s 1s/step - loss: 0.3204 - accuracy: 0.8836 - val_loss: 0.4132 - val_accuracy: 0.8271\n",
      "Epoch 5/5\n",
      "391/391 [==============================] - 593s 2s/step - loss: 0.2794 - accuracy: 0.9028 - val_loss: 0.4401 - val_accuracy: 0.8203\n"
     ]
    }
   ],
   "source": [
    "history = model1.fit(train_dataset, epochs=5, validation_data=test_dataset, validation_steps=30)"
   ]
  },
  {
   "cell_type": "code",
   "execution_count": 19,
   "metadata": {},
   "outputs": [
    {
     "name": "stdout",
     "output_type": "stream",
     "text": [
      "probability this is a positive review {} [[24.913906]]\n"
     ]
    }
   ],
   "source": [
    "sample_text = \"This movie was awesome. The acting was incredible. Highly recommend\"\n",
    "predictions = sample_predict(sample_text, pad=True, model=model1) * 100\n",
    "print('probability this is a positive review {}', predictions)"
   ]
  },
  {
   "cell_type": "code",
   "execution_count": 20,
   "metadata": {},
   "outputs": [
    {
     "name": "stdout",
     "output_type": "stream",
     "text": [
      "probability this is a positive review {} [[10.4430485]]\n"
     ]
    }
   ],
   "source": [
    "sample_text = \"This movie was so so. The acting was medicore. Kind recommend\"\n",
    "predictions = sample_predict(sample_text, pad=True, model=model1) * 100\n",
    "print('probability this is a positive review {}', predictions)"
   ]
  },
  {
   "cell_type": "code",
   "execution_count": null,
   "metadata": {},
   "outputs": [],
   "source": []
  }
 ],
 "metadata": {
  "kernelspec": {
   "display_name": "Python 3",
   "language": "python",
   "name": "python3"
  },
  "language_info": {
   "codemirror_mode": {
    "name": "ipython",
    "version": 3
   },
   "file_extension": ".py",
   "mimetype": "text/x-python",
   "name": "python",
   "nbconvert_exporter": "python",
   "pygments_lexer": "ipython3",
   "version": "3.6.9"
  }
 },
 "nbformat": 4,
 "nbformat_minor": 2
}
