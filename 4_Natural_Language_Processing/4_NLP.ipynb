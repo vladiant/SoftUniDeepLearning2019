{
 "cells": [
  {
   "cell_type": "code",
   "execution_count": 1,
   "metadata": {},
   "outputs": [],
   "source": [
    "%matplotlib inline"
   ]
  },
  {
   "cell_type": "code",
   "execution_count": 2,
   "metadata": {},
   "outputs": [],
   "source": [
    "import numpy as np\n",
    "import pandas as pd\n",
    "import matplotlib.pyplot as plt\n",
    "\n",
    "import tensorflow as tf"
   ]
  },
  {
   "cell_type": "code",
   "execution_count": 3,
   "metadata": {},
   "outputs": [],
   "source": [
    "# Check GPU using\n",
    "# tf.config.experimental.list_physical_devices()\n",
    "# tf.config.experimental.get_visible_devices()\n",
    "\n",
    "# gpu = tf.config.experimental.list_physical_devices('XLA_GPU')[0]\n",
    "# tf.config.experimental.set_memory_growth(gpu, True)"
   ]
  },
  {
   "cell_type": "markdown",
   "metadata": {},
   "source": [
    "# Natural Language Processing\n",
    "## Live Demos"
   ]
  },
  {
   "cell_type": "code",
   "execution_count": 4,
   "metadata": {},
   "outputs": [],
   "source": [
    "# model = tf.keras.models.Sequential([\n",
    "#     # None in shape means it accepts any shape\n",
    "#     tf.keras.layers.Input(shape = (None, 400)),\n",
    "#     tf.keras.layers.LSTM(128)\n",
    "# ])"
   ]
  },
  {
   "cell_type": "code",
   "execution_count": 5,
   "metadata": {},
   "outputs": [],
   "source": [
    "# input_layer = tf.keras.layers.Input(shape = (None, 400))\n",
    "# lstm_layer = tf.keras.layers.LSTM(128, return_state = True)(input_layer)\n",
    "# model = tf.keras.models.Model(inputs = [input_layer], outputs = lstm_layer)"
   ]
  },
  {
   "cell_type": "code",
   "execution_count": 6,
   "metadata": {},
   "outputs": [],
   "source": [
    "# This does not work, has to be redefined\n",
    "# input_layer = tf.keras.layers.Input(shape = (None, 400))\n",
    "# lstm_layer = tf.keras.layers.LSTM(128, return_state = True)(input_layer)\n",
    "# regression_layer = tf.keras.layers.Dense(1)(lstm_layer)\n",
    "# model = tf.keras.models.Model(inputs = [input_layer], outputs = regression_layer)"
   ]
  },
  {
   "cell_type": "code",
   "execution_count": 7,
   "metadata": {},
   "outputs": [],
   "source": [
    "# lstm_layer\n",
    "# [<tf.Tensor 'lstm_10/Identity:0' shape=(None, 128) dtype=float32>,\n",
    "#  <tf.Tensor 'lstm_10/Identity_1:0' shape=(None, 128) dtype=float32>,\n",
    "#  <tf.Tensor 'lstm_10/Identity_2:0' shape=(None, 128) dtype=float32>]"
   ]
  },
  {
   "cell_type": "code",
   "execution_count": 8,
   "metadata": {},
   "outputs": [],
   "source": [
    "# Does not work!\n",
    "# model = tf.keras.models.Sequential([\n",
    "#     tf.keras.layers.Input(shape = (None, 400), batch_size = 8),\n",
    "#     tf.keras.layers.Bidirectional(tf.keras.layers.LSTM(128, return_state = True)),\n",
    "#     tf.keras.layers.Dense(1, activation = None)\n",
    "# ])"
   ]
  },
  {
   "cell_type": "code",
   "execution_count": 9,
   "metadata": {},
   "outputs": [],
   "source": [
    "# model.summary()"
   ]
  },
  {
   "cell_type": "code",
   "execution_count": null,
   "metadata": {},
   "outputs": [],
   "source": []
  },
  {
   "cell_type": "code",
   "execution_count": null,
   "metadata": {},
   "outputs": [],
   "source": []
  }
 ],
 "metadata": {
  "kernelspec": {
   "display_name": "Python 3",
   "language": "python",
   "name": "python3"
  },
  "language_info": {
   "codemirror_mode": {
    "name": "ipython",
    "version": 3
   },
   "file_extension": ".py",
   "mimetype": "text/x-python",
   "name": "python",
   "nbconvert_exporter": "python",
   "pygments_lexer": "ipython3",
   "version": "3.6.9"
  }
 },
 "nbformat": 4,
 "nbformat_minor": 2
}
