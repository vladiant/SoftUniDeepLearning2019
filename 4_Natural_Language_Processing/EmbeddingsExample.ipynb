{
 "cells": [
  {
   "cell_type": "code",
   "execution_count": 20,
   "metadata": {},
   "outputs": [],
   "source": [
    "import io\n",
    "import matplotlib.pyplot as plt\n",
    "import tensorflow as tf\n",
    "\n",
    "from tensorflow import keras\n",
    "from tensorflow.keras import layers\n",
    "import tensorflow_datasets as tfds"
   ]
  },
  {
   "cell_type": "code",
   "execution_count": 21,
   "metadata": {},
   "outputs": [],
   "source": [
    "embedding_layer = layers.Embedding(1000, 5)"
   ]
  },
  {
   "cell_type": "code",
   "execution_count": 22,
   "metadata": {},
   "outputs": [],
   "source": [
    "result = embedding_layer(tf.constant([1,2,3]))"
   ]
  },
  {
   "cell_type": "code",
   "execution_count": 23,
   "metadata": {},
   "outputs": [
    {
     "data": {
      "text/plain": [
       "array([[ 0.01094275, -0.00275149, -0.03509312,  0.02628541, -0.01755869],\n",
       "       [-0.01700958, -0.04539173,  0.00942742, -0.00420091, -0.0029459 ],\n",
       "       [-0.03895913,  0.0322795 ,  0.04323373,  0.04171831,  0.03442532]],\n",
       "      dtype=float32)"
      ]
     },
     "execution_count": 23,
     "metadata": {},
     "output_type": "execute_result"
    }
   ],
   "source": [
    "result.numpy()"
   ]
  },
  {
   "cell_type": "code",
   "execution_count": 24,
   "metadata": {},
   "outputs": [
    {
     "data": {
      "text/plain": [
       "(3, 5)"
      ]
     },
     "execution_count": 24,
     "metadata": {},
     "output_type": "execute_result"
    }
   ],
   "source": [
    "result.numpy().shape"
   ]
  },
  {
   "cell_type": "code",
   "execution_count": 25,
   "metadata": {},
   "outputs": [],
   "source": [
    "(train_data, test_data), info = tfds.load('imdb_reviews/subwords8k',\n",
    "                                         split=(tfds.Split.TRAIN, tfds.Split.TEST),\n",
    "                                          with_info=True, as_supervised=True)"
   ]
  },
  {
   "cell_type": "code",
   "execution_count": 26,
   "metadata": {},
   "outputs": [
    {
     "data": {
      "text/plain": [
       "['the_',\n",
       " ', ',\n",
       " '. ',\n",
       " 'a_',\n",
       " 'and_',\n",
       " 'of_',\n",
       " 'to_',\n",
       " 's_',\n",
       " 'is_',\n",
       " 'br',\n",
       " 'in_',\n",
       " 'I_',\n",
       " 'that_',\n",
       " 'this_',\n",
       " 'it_',\n",
       " ' /><',\n",
       " ' />',\n",
       " 'was_',\n",
       " 'The_',\n",
       " 'as_']"
      ]
     },
     "execution_count": 26,
     "metadata": {},
     "output_type": "execute_result"
    }
   ],
   "source": [
    "encoder = info.features['text'].encoder\n",
    "encoder.subwords[:20]"
   ]
  },
  {
   "cell_type": "code",
   "execution_count": 27,
   "metadata": {},
   "outputs": [],
   "source": [
    "padded_shapes = ([None],())\n",
    "train_batches = train_data.shuffle(1000).padded_batch(10, padded_shapes=padded_shapes)\n",
    "test_batches = test_data.shuffle(1000).padded_batch(10, padded_shapes=padded_shapes)"
   ]
  },
  {
   "cell_type": "code",
   "execution_count": 28,
   "metadata": {},
   "outputs": [],
   "source": [
    "embedding_dim = 16"
   ]
  },
  {
   "cell_type": "code",
   "execution_count": 29,
   "metadata": {},
   "outputs": [],
   "source": [
    "model = keras.Sequential([\n",
    "    layers.Embedding(encoder.vocab_size, embedding_dim),\n",
    "    layers.GlobalAveragePooling1D(),\n",
    "    layers.Dense(1, activation='sigmoid')\n",
    "])"
   ]
  },
  {
   "cell_type": "code",
   "execution_count": 30,
   "metadata": {},
   "outputs": [],
   "source": [
    "model.compile(optimizer='adam', loss='binary_crossentropy',\n",
    "             metrics=['accuracy'])"
   ]
  },
  {
   "cell_type": "code",
   "execution_count": 31,
   "metadata": {},
   "outputs": [
    {
     "name": "stdout",
     "output_type": "stream",
     "text": [
      "Epoch 1/10\n",
      "2500/2500 [==============================] - 30s 12ms/step - loss: 0.6376 - accuracy: 0.6998 - val_loss: 0.5508 - val_accuracy: 0.8250\n",
      "Epoch 2/10\n",
      "2500/2500 [==============================] - 27s 11ms/step - loss: 0.4659 - accuracy: 0.8375 - val_loss: 0.4166 - val_accuracy: 0.8550\n",
      "Epoch 3/10\n",
      "2500/2500 [==============================] - 28s 11ms/step - loss: 0.3642 - accuracy: 0.8772 - val_loss: 0.3877 - val_accuracy: 0.8450\n",
      "Epoch 4/10\n",
      "2500/2500 [==============================] - 34s 14ms/step - loss: 0.3097 - accuracy: 0.8954 - val_loss: 0.3784 - val_accuracy: 0.8650\n",
      "Epoch 5/10\n",
      "2500/2500 [==============================] - 34s 14ms/step - loss: 0.2746 - accuracy: 0.9075 - val_loss: 0.4049 - val_accuracy: 0.8150\n",
      "Epoch 6/10\n",
      "2500/2500 [==============================] - 30s 12ms/step - loss: 0.2514 - accuracy: 0.9155 - val_loss: 0.4186 - val_accuracy: 0.8550\n",
      "Epoch 7/10\n",
      "2500/2500 [==============================] - 31s 12ms/step - loss: 0.2329 - accuracy: 0.9225 - val_loss: 0.3345 - val_accuracy: 0.9000\n",
      "Epoch 8/10\n",
      "2500/2500 [==============================] - 27s 11ms/step - loss: 0.2161 - accuracy: 0.9282 - val_loss: 0.3042 - val_accuracy: 0.8750\n",
      "Epoch 9/10\n",
      "2500/2500 [==============================] - 29s 12ms/step - loss: 0.2025 - accuracy: 0.9328 - val_loss: 0.2956 - val_accuracy: 0.8850\n",
      "Epoch 10/10\n",
      "2500/2500 [==============================] - 30s 12ms/step - loss: 0.1905 - accuracy: 0.9366 - val_loss: 0.3414 - val_accuracy: 0.8800\n"
     ]
    }
   ],
   "source": [
    "history = model.fit(train_batches, epochs=10, validation_data=test_batches, validation_steps=20)"
   ]
  },
  {
   "cell_type": "code",
   "execution_count": 32,
   "metadata": {},
   "outputs": [],
   "source": [
    "history_dict = history.history\n",
    "acc = history_dict['accuracy']\n",
    "val_acc = history_dict['val_accuracy']\n",
    "epochs = range(1, len(acc) + 1)"
   ]
  },
  {
   "cell_type": "code",
   "execution_count": 33,
   "metadata": {},
   "outputs": [
    {
     "data": {
      "image/png": "[encoded data removed]",
      "text/plain": [
       "<Figure size 864x648 with 1 Axes>"
      ]
     },
     "metadata": {
      "needs_background": "light"
     },
     "output_type": "display_data"
    }
   ],
   "source": [
    "plt.figure(figsize=(12,9))\n",
    "plt.plot(epochs, acc, 'bo', label='Training acc')\n",
    "plt.plot(epochs, val_acc, 'b', label='Validation acc')\n",
    "plt.title('Training and validation accuracy')\n",
    "plt.xlabel('Epochs')\n",
    "plt.ylabel('Accuracy')\n",
    "plt.legend(loc='lower right')\n",
    "plt.ylim((0.5, 1))\n",
    "\n",
    "plt.show()"
   ]
  },
  {
   "cell_type": "code",
   "execution_count": 34,
   "metadata": {},
   "outputs": [],
   "source": [
    "def get_batch_data():\n",
    "    (train_data, test_data), info = tfds.load('imdb_reviews/subwords8k',\n",
    "                                         split=(tfds.Split.TRAIN, tfds.Split.TEST),\n",
    "                                          with_info=True, as_supervised=True)\n",
    "    encoder = info.features['text'].encoder\n",
    "    padded_shapes = ([None],())\n",
    "    train_batches = train_data.shuffle(1000).padded_batch(10, padded_shapes=padded_shapes)\n",
    "    test_batches = test_data.shuffle(1000).padded_batch(10, padded_shapes=padded_shapes)\n",
    "    \n",
    "    return train_batches, test_batches, encoder"
   ]
  },
  {
   "cell_type": "code",
   "execution_count": 35,
   "metadata": {},
   "outputs": [],
   "source": [
    "def get_model(encoder, embedding_dim = 16):\n",
    "    model = keras.Sequential([\n",
    "        layers.Embedding(encoder.vocab_size, embedding_dim),\n",
    "        layers.GlobalAveragePooling1D(),\n",
    "        layers.Dense(1, activation='sigmoid')\n",
    "    ])\n",
    "    model.compile(optimizer='adam', loss='binary_crossentropy',\n",
    "             metrics=['accuracy'])\n",
    "    \n",
    "    return model"
   ]
  },
  {
   "cell_type": "code",
   "execution_count": 36,
   "metadata": {},
   "outputs": [],
   "source": [
    "def plot_history(history):\n",
    "    history_dict = history.history\n",
    "    acc = history_dict['accuracy']\n",
    "    val_acc = history_dict['val_accuracy']\n",
    "    epochs = range(1, len(acc) + 1)\n",
    "    \n",
    "    plt.figure(figsize=(12,9))\n",
    "    plt.plot(epochs, acc, 'bo', label='Training acc')\n",
    "    plt.plot(epochs, val_acc, 'b', label='Validation acc')\n",
    "    plt.title('Training and validation accuracy')\n",
    "    plt.xlabel('Epochs')\n",
    "    plt.ylabel('Accuracy')\n",
    "    plt.legend(loc='lower right')\n",
    "    plt.ylim((0.5, 1))\n",
    "    \n",
    "    plt.show()"
   ]
  },
  {
   "cell_type": "code",
   "execution_count": 37,
   "metadata": {},
   "outputs": [],
   "source": [
    "def retrieve_embeddings(model, encoder):\n",
    "    out_vectors = io.open('vecs.tsv', 'w', encoding='utf-8')\n",
    "    out_metadata = io.open('meta.tsv', 'w', encoding='utf-8')\n",
    "    weights = model.layers[0].get_weights()[0]\n",
    "    \n",
    "    for num, word in enumerate(encoder.subwords):\n",
    "        vec = weights[num+1]\n",
    "        out_metadata.write(word + '\\n')\n",
    "        out_vectors.write('\\t'.join([str(x) for x in vec]) + '\\n')\n",
    "        \n",
    "    out_vectors.close()\n",
    "    out_metadata.close()"
   ]
  },
  {
   "cell_type": "code",
   "execution_count": 38,
   "metadata": {},
   "outputs": [
    {
     "name": "stdout",
     "output_type": "stream",
     "text": [
      "Epoch 1/10\n",
      "2500/2500 [==============================] - 33s 13ms/step - loss: 0.6348 - accuracy: 0.6960 - val_loss: 0.5562 - val_accuracy: 0.7150\n",
      "Epoch 2/10\n",
      "2500/2500 [==============================] - 26s 10ms/step - loss: 0.4629 - accuracy: 0.8371 - val_loss: 0.4200 - val_accuracy: 0.8500\n",
      "Epoch 3/10\n",
      "2500/2500 [==============================] - 26s 10ms/step - loss: 0.3596 - accuracy: 0.8794 - val_loss: 0.4474 - val_accuracy: 0.8400\n",
      "Epoch 4/10\n",
      "2500/2500 [==============================] - 26s 11ms/step - loss: 0.3056 - accuracy: 0.8964 - val_loss: 0.3181 - val_accuracy: 0.8850\n",
      "Epoch 5/10\n",
      "2500/2500 [==============================] - 26s 10ms/step - loss: 0.2737 - accuracy: 0.9086 - val_loss: 0.3840 - val_accuracy: 0.8550\n",
      "Epoch 6/10\n",
      "2500/2500 [==============================] - 23s 9ms/step - loss: 0.2480 - accuracy: 0.9162 - val_loss: 0.3421 - val_accuracy: 0.8650\n",
      "Epoch 7/10\n",
      "2500/2500 [==============================] - 23s 9ms/step - loss: 0.2297 - accuracy: 0.9228 - val_loss: 0.2800 - val_accuracy: 0.9000\n",
      "Epoch 8/10\n",
      "2500/2500 [==============================] - 26s 10ms/step - loss: 0.2133 - accuracy: 0.9287 - val_loss: 0.3371 - val_accuracy: 0.8800\n",
      "Epoch 9/10\n",
      "2500/2500 [==============================] - 25s 10ms/step - loss: 0.1980 - accuracy: 0.9341 - val_loss: 0.4170 - val_accuracy: 0.8550\n",
      "Epoch 10/10\n",
      "2500/2500 [==============================] - 26s 10ms/step - loss: 0.1892 - accuracy: 0.9375 - val_loss: 0.4452 - val_accuracy: 0.8450\n"
     ]
    },
    {
     "data": {
      "image/png": "[encoded data removed]",
      "text/plain": [
       "<Figure size 864x648 with 1 Axes>"
      ]
     },
     "metadata": {
      "needs_background": "light"
     },
     "output_type": "display_data"
    }
   ],
   "source": [
    "train_batches, test_batches, encoder = get_batch_data()\n",
    "model = get_model(encoder)\n",
    "history = model.fit(train_batches, epochs=10, validation_data=test_batches, validation_steps=20)\n",
    "plot_history(history)\n",
    "retrieve_embeddings(model, encoder)"
   ]
  },
  {
   "cell_type": "markdown",
   "metadata": {},
   "source": [
    "http://projector.tensorflow.org/"
   ]
  },
  {
   "cell_type": "code",
   "execution_count": null,
   "metadata": {},
   "outputs": [],
   "source": []
  }
 ],
 "metadata": {
  "kernelspec": {
   "display_name": "Python 3",
   "language": "python",
   "name": "python3"
  },
  "language_info": {
   "codemirror_mode": {
    "name": "ipython",
    "version": 3
   },
   "file_extension": ".py",
   "mimetype": "text/x-python",
   "name": "python",
   "nbconvert_exporter": "python",
   "pygments_lexer": "ipython3",
   "version": "3.6.9"
  }
 },
 "nbformat": 4,
 "nbformat_minor": 2
}
